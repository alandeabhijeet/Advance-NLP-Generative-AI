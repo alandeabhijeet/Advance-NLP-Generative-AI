{
 "cells": [
  {
   "cell_type": "code",
   "execution_count": 2,
   "metadata": {},
   "outputs": [
    {
     "name": "stdout",
     "output_type": "stream",
     "text": [
      "started\n"
     ]
    }
   ],
   "source": [
    "print(\"started\")"
   ]
  },
  {
   "cell_type": "code",
   "execution_count": 3,
   "metadata": {},
   "outputs": [],
   "source": [
    "from gensim.models import Word2Vec,KeyedVectors\n",
    "import gensim.downloader as api"
   ]
  },
  {
   "cell_type": "code",
   "execution_count": null,
   "metadata": {},
   "outputs": [],
   "source": [
    "model = api.load('word2vec-google-news-300')"
   ]
  },
  {
   "cell_type": "code",
   "execution_count": 4,
   "metadata": {},
   "outputs": [],
   "source": [
    "from gensim.models import Word2Vec"
   ]
  },
  {
   "cell_type": "code",
   "execution_count": 5,
   "metadata": {},
   "outputs": [],
   "source": [
    "sentences = [\n",
    "    [\"king\", \"queen\", \"man\", \"woman\"],\n",
    "    [\"dog\", \"cat\", \"animal\"],\n",
    "    [\"car\", \"truck\", \"vehicle\"],\n",
    "    [\"apple\", \"orange\", \"fruit\"]\n",
    "]\n",
    "\n",
    "model = Word2Vec(sentences, vector_size=50, min_count=1)"
   ]
  },
  {
   "cell_type": "code",
   "execution_count": 6,
   "metadata": {},
   "outputs": [
    {
     "data": {
      "text/plain": [
       "array([ 1.62645429e-02, -8.91466811e-03, -2.13671452e-03,  2.01272964e-03,\n",
       "       -3.82227910e-04,  2.29635485e-03,  1.22277215e-02, -4.05430801e-05,\n",
       "       -6.49193069e-03, -3.02145723e-03,  1.17945978e-02,  3.02820443e-03,\n",
       "       -1.44852395e-03,  1.86664946e-02, -9.84256715e-03, -1.67681929e-03,\n",
       "        1.83508229e-02,  1.34988548e-02,  3.00571206e-03, -1.77651215e-02,\n",
       "        2.29749200e-03, -4.57651122e-03,  1.87364742e-02,  2.41985568e-03,\n",
       "        2.98012723e-03,  4.81281988e-03, -3.67201329e-03, -9.99926776e-03,\n",
       "        4.64859011e-04, -4.02836083e-03,  1.32018663e-02,  1.78802460e-02,\n",
       "       -1.34950876e-03,  5.95402950e-03, -1.22153088e-02,  3.39864963e-03,\n",
       "       -1.38524650e-02, -1.73880532e-02, -1.18004056e-02, -1.79129504e-02,\n",
       "        1.45551898e-02, -1.15440628e-02,  1.65527035e-02, -1.44870905e-02,\n",
       "        6.84334990e-03,  1.93499979e-02, -1.55708957e-02, -1.98901147e-02,\n",
       "       -8.65829270e-03, -5.36626112e-03], dtype=float32)"
      ]
     },
     "execution_count": 6,
     "metadata": {},
     "output_type": "execute_result"
    }
   ],
   "source": [
    "model.wv[\"king\"]"
   ]
  },
  {
   "cell_type": "code",
   "execution_count": 7,
   "metadata": {},
   "outputs": [
    {
     "data": {
      "text/plain": [
       "[('vehicle', 0.19010192155838013),\n",
       " ('queen', 0.17440013587474823),\n",
       " ('cat', 0.11519220471382141),\n",
       " ('car', 0.10159842669963837),\n",
       " ('orange', 0.08061248064041138),\n",
       " ('fruit', 0.04067763686180115),\n",
       " ('truck', -0.02331055887043476),\n",
       " ('animal', -0.02958955429494381),\n",
       " ('apple', -0.03339879959821701),\n",
       " ('dog', -0.06483978033065796)]"
      ]
     },
     "execution_count": 7,
     "metadata": {},
     "output_type": "execute_result"
    }
   ],
   "source": [
    "model.wv.most_similar(\"king\")"
   ]
  },
  {
   "cell_type": "code",
   "execution_count": 11,
   "metadata": {},
   "outputs": [
    {
     "data": {
      "text/plain": [
       "'vehicle'"
      ]
     },
     "execution_count": 11,
     "metadata": {},
     "output_type": "execute_result"
    }
   ],
   "source": [
    "model.wv.doesnt_match([\"vehicle\" , \"cat\" , \"dog\"])"
   ]
  },
  {
   "cell_type": "code",
   "execution_count": null,
   "metadata": {},
   "outputs": [],
   "source": []
  }
 ],
 "metadata": {
  "kernelspec": {
   "display_name": "base",
   "language": "python",
   "name": "python3"
  },
  "language_info": {
   "codemirror_mode": {
    "name": "ipython",
    "version": 3
   },
   "file_extension": ".py",
   "mimetype": "text/x-python",
   "name": "python",
   "nbconvert_exporter": "python",
   "pygments_lexer": "ipython3",
   "version": "3.11.7"
  }
 },
 "nbformat": 4,
 "nbformat_minor": 2
}
