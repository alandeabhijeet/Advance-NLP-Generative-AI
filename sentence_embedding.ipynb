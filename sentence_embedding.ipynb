{
 "cells": [
  {
   "cell_type": "code",
   "execution_count": 2,
   "metadata": {},
   "outputs": [
    {
     "name": "stdout",
     "output_type": "stream",
     "text": [
      "Requirement already satisfied: sentence_transformers in c:\\users\\abhij\\anaconda3\\lib\\site-packages (3.3.1)\n",
      "Requirement already satisfied: transformers<5.0.0,>=4.41.0 in c:\\users\\abhij\\anaconda3\\lib\\site-packages (from sentence_transformers) (4.47.0)\n",
      "Requirement already satisfied: tqdm in c:\\users\\abhij\\anaconda3\\lib\\site-packages (from sentence_transformers) (4.65.0)\n",
      "Requirement already satisfied: torch>=1.11.0 in c:\\users\\abhij\\anaconda3\\lib\\site-packages (from sentence_transformers) (2.5.1)\n",
      "Requirement already satisfied: scikit-learn in c:\\users\\abhij\\anaconda3\\lib\\site-packages (from sentence_transformers) (1.2.2)\n",
      "Requirement already satisfied: scipy in c:\\users\\abhij\\anaconda3\\lib\\site-packages (from sentence_transformers) (1.12.0)\n",
      "Requirement already satisfied: huggingface-hub>=0.20.0 in c:\\users\\abhij\\anaconda3\\lib\\site-packages (from sentence_transformers) (0.26.5)\n",
      "Requirement already satisfied: Pillow in c:\\users\\abhij\\anaconda3\\lib\\site-packages (from sentence_transformers) (10.3.0)\n",
      "Requirement already satisfied: filelock in c:\\users\\abhij\\anaconda3\\lib\\site-packages (from huggingface-hub>=0.20.0->sentence_transformers) (3.13.3)\n",
      "Requirement already satisfied: fsspec>=2023.5.0 in c:\\users\\abhij\\anaconda3\\lib\\site-packages (from huggingface-hub>=0.20.0->sentence_transformers) (2023.10.0)\n",
      "Requirement already satisfied: packaging>=20.9 in c:\\users\\abhij\\anaconda3\\lib\\site-packages (from huggingface-hub>=0.20.0->sentence_transformers) (23.2)\n",
      "Requirement already satisfied: pyyaml>=5.1 in c:\\users\\abhij\\anaconda3\\lib\\site-packages (from huggingface-hub>=0.20.0->sentence_transformers) (6.0.1)\n",
      "Requirement already satisfied: requests in c:\\users\\abhij\\anaconda3\\lib\\site-packages (from huggingface-hub>=0.20.0->sentence_transformers) (2.31.0)\n",
      "Requirement already satisfied: typing-extensions>=3.7.4.3 in c:\\users\\abhij\\anaconda3\\lib\\site-packages (from huggingface-hub>=0.20.0->sentence_transformers) (4.12.2)\n",
      "Requirement already satisfied: networkx in c:\\users\\abhij\\anaconda3\\lib\\site-packages (from torch>=1.11.0->sentence_transformers) (3.2.1)\n",
      "Requirement already satisfied: jinja2 in c:\\users\\abhij\\anaconda3\\lib\\site-packages (from torch>=1.11.0->sentence_transformers) (3.1.3)\n",
      "Requirement already satisfied: sympy==1.13.1 in c:\\users\\abhij\\anaconda3\\lib\\site-packages (from torch>=1.11.0->sentence_transformers) (1.13.1)\n",
      "Requirement already satisfied: mpmath<1.4,>=1.1.0 in c:\\users\\abhij\\anaconda3\\lib\\site-packages (from sympy==1.13.1->torch>=1.11.0->sentence_transformers) (1.3.0)\n",
      "Requirement already satisfied: colorama in c:\\users\\abhij\\anaconda3\\lib\\site-packages (from tqdm->sentence_transformers) (0.4.6)\n",
      "Requirement already satisfied: numpy>=1.17 in c:\\users\\abhij\\anaconda3\\lib\\site-packages (from transformers<5.0.0,>=4.41.0->sentence_transformers) (1.26.4)\n",
      "Requirement already satisfied: regex!=2019.12.17 in c:\\users\\abhij\\anaconda3\\lib\\site-packages (from transformers<5.0.0,>=4.41.0->sentence_transformers) (2023.10.3)\n",
      "Requirement already satisfied: tokenizers<0.22,>=0.21 in c:\\users\\abhij\\anaconda3\\lib\\site-packages (from transformers<5.0.0,>=4.41.0->sentence_transformers) (0.21.0)\n",
      "Requirement already satisfied: safetensors>=0.4.1 in c:\\users\\abhij\\anaconda3\\lib\\site-packages (from transformers<5.0.0,>=4.41.0->sentence_transformers) (0.4.5)\n",
      "Requirement already satisfied: joblib>=1.1.1 in c:\\users\\abhij\\anaconda3\\lib\\site-packages (from scikit-learn->sentence_transformers) (1.2.0)\n",
      "Requirement already satisfied: threadpoolctl>=2.0.0 in c:\\users\\abhij\\anaconda3\\lib\\site-packages (from scikit-learn->sentence_transformers) (2.2.0)\n",
      "Requirement already satisfied: MarkupSafe>=2.0 in c:\\users\\abhij\\anaconda3\\lib\\site-packages (from jinja2->torch>=1.11.0->sentence_transformers) (2.1.5)\n",
      "Requirement already satisfied: charset-normalizer<4,>=2 in c:\\users\\abhij\\anaconda3\\lib\\site-packages (from requests->huggingface-hub>=0.20.0->sentence_transformers) (3.3.2)\n",
      "Requirement already satisfied: idna<4,>=2.5 in c:\\users\\abhij\\anaconda3\\lib\\site-packages (from requests->huggingface-hub>=0.20.0->sentence_transformers) (3.6)\n",
      "Requirement already satisfied: urllib3<3,>=1.21.1 in c:\\users\\abhij\\anaconda3\\lib\\site-packages (from requests->huggingface-hub>=0.20.0->sentence_transformers) (2.2.1)\n",
      "Requirement already satisfied: certifi>=2017.4.17 in c:\\users\\abhij\\anaconda3\\lib\\site-packages (from requests->huggingface-hub>=0.20.0->sentence_transformers) (2024.2.2)\n"
     ]
    }
   ],
   "source": [
    "!pip install sentence_transformers"
   ]
  },
  {
   "cell_type": "code",
   "execution_count": 3,
   "metadata": {},
   "outputs": [
    {
     "name": "stdout",
     "output_type": "stream",
     "text": [
      "WARNING:tensorflow:From c:\\Users\\abhij\\anaconda3\\Lib\\site-packages\\keras\\src\\losses.py:2976: The name tf.losses.sparse_softmax_cross_entropy is deprecated. Please use tf.compat.v1.losses.sparse_softmax_cross_entropy instead.\n",
      "\n"
     ]
    }
   ],
   "source": [
    "from sentence_transformers import SentenceTransformer"
   ]
  },
  {
   "cell_type": "code",
   "execution_count": 4,
   "metadata": {},
   "outputs": [
    {
     "data": {
      "application/vnd.jupyter.widget-view+json": {
       "model_id": "4dc0b38b79e346c7817c0655d5a68802",
       "version_major": 2,
       "version_minor": 0
      },
      "text/plain": [
       "modules.json:   0%|          | 0.00/229 [00:00<?, ?B/s]"
      ]
     },
     "metadata": {},
     "output_type": "display_data"
    },
    {
     "name": "stderr",
     "output_type": "stream",
     "text": [
      "c:\\Users\\abhij\\anaconda3\\Lib\\site-packages\\huggingface_hub\\file_download.py:139: UserWarning: `huggingface_hub` cache-system uses symlinks by default to efficiently store duplicated files but your machine does not support them in C:\\Users\\abhij\\.cache\\huggingface\\hub\\models--sentence-transformers--paraphrase-MiniLM-L6-v2. Caching files will still work but in a degraded version that might require more space on your disk. This warning can be disabled by setting the `HF_HUB_DISABLE_SYMLINKS_WARNING` environment variable. For more details, see https://huggingface.co/docs/huggingface_hub/how-to-cache#limitations.\n",
      "To support symlinks on Windows, you either need to activate Developer Mode or to run Python as an administrator. In order to activate developer mode, see this article: https://docs.microsoft.com/en-us/windows/apps/get-started/enable-your-device-for-development\n",
      "  warnings.warn(message)\n"
     ]
    },
    {
     "data": {
      "application/vnd.jupyter.widget-view+json": {
       "model_id": "dc51cb53eee94f608d4a2aee58b1f46c",
       "version_major": 2,
       "version_minor": 0
      },
      "text/plain": [
       "config_sentence_transformers.json:   0%|          | 0.00/122 [00:00<?, ?B/s]"
      ]
     },
     "metadata": {},
     "output_type": "display_data"
    },
    {
     "data": {
      "application/vnd.jupyter.widget-view+json": {
       "model_id": "55b05b6124e54627acf9ea3ddd921f9e",
       "version_major": 2,
       "version_minor": 0
      },
      "text/plain": [
       "README.md:   0%|          | 0.00/3.73k [00:00<?, ?B/s]"
      ]
     },
     "metadata": {},
     "output_type": "display_data"
    },
    {
     "data": {
      "application/vnd.jupyter.widget-view+json": {
       "model_id": "6cfd5351c23d44ffb5fa5c4b4457b450",
       "version_major": 2,
       "version_minor": 0
      },
      "text/plain": [
       "sentence_bert_config.json:   0%|          | 0.00/53.0 [00:00<?, ?B/s]"
      ]
     },
     "metadata": {},
     "output_type": "display_data"
    },
    {
     "data": {
      "application/vnd.jupyter.widget-view+json": {
       "model_id": "14a0fbccc4c245759187922b22fc36b0",
       "version_major": 2,
       "version_minor": 0
      },
      "text/plain": [
       "config.json:   0%|          | 0.00/629 [00:00<?, ?B/s]"
      ]
     },
     "metadata": {},
     "output_type": "display_data"
    },
    {
     "data": {
      "application/vnd.jupyter.widget-view+json": {
       "model_id": "ee963c0775124718b2a6983e2808e94c",
       "version_major": 2,
       "version_minor": 0
      },
      "text/plain": [
       "model.safetensors:   0%|          | 0.00/90.9M [00:00<?, ?B/s]"
      ]
     },
     "metadata": {},
     "output_type": "display_data"
    },
    {
     "data": {
      "application/vnd.jupyter.widget-view+json": {
       "model_id": "8f052715676a49ed891382ac38c70487",
       "version_major": 2,
       "version_minor": 0
      },
      "text/plain": [
       "tokenizer_config.json:   0%|          | 0.00/314 [00:00<?, ?B/s]"
      ]
     },
     "metadata": {},
     "output_type": "display_data"
    },
    {
     "data": {
      "application/vnd.jupyter.widget-view+json": {
       "model_id": "9c1b932fb5e44b61b2e68083effccaeb",
       "version_major": 2,
       "version_minor": 0
      },
      "text/plain": [
       "vocab.txt:   0%|          | 0.00/232k [00:00<?, ?B/s]"
      ]
     },
     "metadata": {},
     "output_type": "display_data"
    },
    {
     "data": {
      "application/vnd.jupyter.widget-view+json": {
       "model_id": "85664ca218d14901a8368a5605569db5",
       "version_major": 2,
       "version_minor": 0
      },
      "text/plain": [
       "tokenizer.json:   0%|          | 0.00/466k [00:00<?, ?B/s]"
      ]
     },
     "metadata": {},
     "output_type": "display_data"
    },
    {
     "data": {
      "application/vnd.jupyter.widget-view+json": {
       "model_id": "79d1b0027ee540fabccd8fec77e7d4a2",
       "version_major": 2,
       "version_minor": 0
      },
      "text/plain": [
       "special_tokens_map.json:   0%|          | 0.00/112 [00:00<?, ?B/s]"
      ]
     },
     "metadata": {},
     "output_type": "display_data"
    },
    {
     "data": {
      "application/vnd.jupyter.widget-view+json": {
       "model_id": "8c026f1a61c1493ebacfa48454d7de92",
       "version_major": 2,
       "version_minor": 0
      },
      "text/plain": [
       "1_Pooling/config.json:   0%|          | 0.00/190 [00:00<?, ?B/s]"
      ]
     },
     "metadata": {},
     "output_type": "display_data"
    }
   ],
   "source": [
    "\n",
    "model = SentenceTransformer('paraphrase-MiniLM-L6-v2')"
   ]
  },
  {
   "cell_type": "code",
   "execution_count": 5,
   "metadata": {},
   "outputs": [
    {
     "data": {
      "text/plain": [
       "array([-0.34309512,  0.4709826 , -0.08727016,  0.5147347 , -0.15222073,\n",
       "       -0.6495129 ,  0.95347506,  0.36809736, -0.14473821, -0.09188817,\n",
       "       -0.35550192, -0.7492722 ,  0.12051986, -0.5637863 ,  0.0230023 ,\n",
       "        0.317979  ,  0.52670175, -0.1116185 , -0.54453856, -0.33491367,\n",
       "       -0.33754975,  0.25710765,  0.28001755,  0.2552192 ,  0.34256715,\n",
       "       -0.7682516 ,  0.4883792 ,  0.4447207 ,  0.12271153,  0.00914838,\n",
       "        0.5513228 , -0.5927711 , -0.08771708,  0.15409939, -0.21619727,\n",
       "        0.7046221 , -0.56244797,  0.06398988, -0.11712424, -0.24991682,\n",
       "        0.33769277, -0.04585483,  0.17783298, -0.15602204,  0.24381591,\n",
       "        0.11525968, -0.4793138 ,  0.6102586 , -0.18737933,  0.08421796,\n",
       "       -0.3478353 , -0.29013887, -0.42015466,  0.21278593,  0.38218555,\n",
       "       -0.5135182 , -0.3033692 ,  0.6046019 , -0.087768  , -0.470766  ,\n",
       "        0.11741172,  0.08264221,  0.05569291,  0.19211772,  0.33814284,\n",
       "       -0.00144849, -0.0198842 , -0.1312408 ,  0.1609244 , -0.21130411,\n",
       "        0.08683233,  0.0861582 , -0.03554324,  0.5908574 , -0.16605915,\n",
       "       -0.15425871,  0.3060197 ,  0.65572107, -0.23965311, -0.00930881,\n",
       "       -0.35386285, -0.2349735 ,  0.51890266, -0.2258527 ,  0.03138053,\n",
       "        0.46906832, -0.14497566,  0.3274087 , -0.01981821, -0.36493927,\n",
       "       -0.26381388, -0.01965294,  0.1846942 ,  0.09638806, -0.06705727,\n",
       "       -0.0658745 , -0.24083064, -0.48635545, -0.63202137,  0.5350145 ,\n",
       "        0.4830436 ,  0.24244997, -0.10314558,  0.45833352, -0.47685358,\n",
       "       -0.29029736,  0.29353064,  0.11186258, -0.57268536,  0.32252306,\n",
       "       -0.10606217, -0.51872915,  0.17793585,  0.12155998,  0.48566958,\n",
       "        0.37891033,  0.08772463, -0.11388378,  0.11288454, -0.6640504 ,\n",
       "       -0.7434271 ,  0.7404893 ,  0.00458295, -0.0598359 , -0.33025628,\n",
       "       -0.07610474,  0.6767955 , -0.14746822, -0.11848558, -0.10878352,\n",
       "        0.5606847 ,  0.25833106,  0.22952338,  0.01313121, -0.12705025,\n",
       "       -0.05575706, -0.15601005, -0.84671414, -0.09914953, -0.3561879 ,\n",
       "        0.11772065, -0.57904196,  0.49227548, -0.43504006, -0.40614444,\n",
       "        0.18425955,  0.35515076,  0.30824184, -0.16772929, -0.61570656,\n",
       "        0.01887733,  0.29560643,  0.14370261, -0.33012024,  0.6569373 ,\n",
       "        0.5755785 ,  0.83018917,  0.22249743, -0.12407003, -0.4217382 ,\n",
       "       -0.526209  , -0.13116303, -0.558137  , -0.46296063, -0.7532153 ,\n",
       "       -0.28535697, -0.5171446 , -0.01961915, -0.14294171,  0.47935733,\n",
       "       -0.08456927, -0.13248281, -0.27303618,  0.41693133,  0.25742278,\n",
       "        0.5577449 ,  0.71076286,  0.36684278, -0.20722792,  0.10632411,\n",
       "        0.00315533, -0.33398247, -0.17962644,  0.41221717,  0.3935811 ,\n",
       "        0.3923623 ,  0.6271643 ,  0.39841887,  0.04137978, -0.48268643,\n",
       "       -0.01623801, -0.23083499, -0.20271662, -0.16880171,  0.23449485,\n",
       "        0.28137332, -0.00534591, -0.6320022 , -0.0722126 ,  0.04350639,\n",
       "        0.1434554 ,  1.0194153 , -0.18850495,  0.13439372,  0.4767174 ,\n",
       "       -0.31828624, -0.02398204,  0.15325168,  0.26601487,  0.3720354 ,\n",
       "       -0.14875078, -0.03899454,  0.094408  , -0.20208342, -0.00941469,\n",
       "       -0.87148887,  0.12674165,  0.8310272 , -0.06181365,  0.51406777,\n",
       "        0.23978336, -0.23279299, -0.04754115, -0.3511205 ,  0.35704622,\n",
       "       -0.22831461, -0.82050794,  0.06152455,  0.57751   , -0.37646565,\n",
       "        0.20082979,  0.5002228 ,  0.3307688 ,  0.44819123, -0.0011444 ,\n",
       "        0.4503246 ,  0.06541639, -0.03025856, -0.20950867,  0.38153705,\n",
       "        0.585927  ,  0.13944386,  0.28991535,  0.20256221, -0.3730688 ,\n",
       "        0.5410207 , -0.23406938, -0.02021888, -0.64422053,  0.4985067 ,\n",
       "       -0.12266363,  0.58883077, -0.3880682 ,  0.21903707, -0.17523842,\n",
       "       -0.43402487, -0.6732074 , -0.04454275, -0.40888405, -0.7028796 ,\n",
       "        0.19612777, -0.54182357, -0.01386999, -0.37158898,  0.24902368,\n",
       "        0.4254977 , -0.5998894 ,  0.72941726,  0.32425246,  0.10398846,\n",
       "       -0.6419587 ,  0.3143851 , -0.62773895, -0.35397884, -0.6036115 ,\n",
       "       -0.39696828,  0.6194443 ,  0.23722823,  0.18448234,  0.01272026,\n",
       "       -0.14291099, -0.14029118,  0.20341171,  0.35591653, -0.04769393,\n",
       "       -0.16808152,  0.43622616,  0.3581764 , -0.72413737, -0.06686913,\n",
       "       -0.16235445,  0.39598507, -0.08098549, -0.38246575, -0.04432133,\n",
       "       -0.48683295, -0.7043437 , -0.31886142, -0.59179014,  0.16378713,\n",
       "        0.3743661 , -0.26650077, -0.32560757, -0.2054021 , -0.22971776,\n",
       "        0.41772074, -0.59825414, -0.34301335,  0.41465548,  0.15822311,\n",
       "       -0.2906489 , -0.00227783,  0.5908006 , -0.0903846 , -0.17298338,\n",
       "        0.35084835,  0.32194123,  0.4936573 ,  0.26507184,  0.15188003,\n",
       "       -0.57018584, -0.31575283, -0.07507455,  0.09409457, -0.46043703,\n",
       "        0.15439661, -0.4160809 , -0.33090052, -0.13967045,  0.10174274,\n",
       "       -0.12442027, -0.37029856, -0.32529053,  0.5669619 ,  0.37085208,\n",
       "        0.23932739,  0.38326594, -0.09625705, -0.53718644, -0.36956388,\n",
       "        0.10851692, -0.215492  ,  0.19332623,  0.24638431,  0.1254167 ,\n",
       "        0.11478056, -0.00717149, -0.33804396, -0.22359946, -0.6388219 ,\n",
       "       -0.2206641 ,  0.88209593,  0.1258749 , -0.32001606, -0.2867692 ,\n",
       "        0.3218741 ,  0.15037797,  0.35510516,  0.08982962, -0.3359844 ,\n",
       "       -0.1956054 , -0.19507265,  0.43399593,  0.14645742,  0.19792949,\n",
       "        0.068725  ,  0.2822668 ,  0.130655  , -0.45707676, -0.28795224,\n",
       "       -0.09400874, -0.58238995,  0.7881746 ,  0.08997072,  0.35886684,\n",
       "       -0.19861127, -0.47624904,  0.33870456, -0.41257593,  0.29565006,\n",
       "        0.66673106,  0.03468873, -0.01231228,  0.4719324 ], dtype=float32)"
      ]
     },
     "execution_count": 5,
     "metadata": {},
     "output_type": "execute_result"
    }
   ],
   "source": [
    "model.encode(\"Hello abhijeet \")"
   ]
  },
  {
   "cell_type": "code",
   "execution_count": 6,
   "metadata": {},
   "outputs": [
    {
     "data": {
      "text/plain": [
       "(384,)"
      ]
     },
     "execution_count": 6,
     "metadata": {},
     "output_type": "execute_result"
    }
   ],
   "source": [
    "model.encode(\"Hello abhijeet \").shape"
   ]
  },
  {
   "cell_type": "code",
   "execution_count": 12,
   "metadata": {},
   "outputs": [],
   "source": [
    "from langchain.embeddings import HuggingFaceEmbeddings"
   ]
  },
  {
   "cell_type": "code",
   "execution_count": 9,
   "metadata": {},
   "outputs": [
    {
     "name": "stdout",
     "output_type": "stream",
     "text": [
      "Collecting langchain\n",
      "  Downloading langchain-0.3.11-py3-none-any.whl.metadata (7.1 kB)\n",
      "Requirement already satisfied: PyYAML>=5.3 in c:\\users\\abhij\\anaconda3\\lib\\site-packages (from langchain) (6.0.1)\n",
      "Requirement already satisfied: SQLAlchemy<3,>=1.4 in c:\\users\\abhij\\anaconda3\\lib\\site-packages (from langchain) (2.0.25)\n",
      "Requirement already satisfied: aiohttp<4.0.0,>=3.8.3 in c:\\users\\abhij\\anaconda3\\lib\\site-packages (from langchain) (3.9.5)\n",
      "Collecting langchain-core<0.4.0,>=0.3.24 (from langchain)\n",
      "  Downloading langchain_core-0.3.25-py3-none-any.whl.metadata (6.3 kB)\n",
      "Collecting langchain-text-splitters<0.4.0,>=0.3.0 (from langchain)\n",
      "  Downloading langchain_text_splitters-0.3.2-py3-none-any.whl.metadata (2.3 kB)\n",
      "Collecting langsmith<0.3,>=0.1.17 (from langchain)\n",
      "  Downloading langsmith-0.2.3-py3-none-any.whl.metadata (14 kB)\n",
      "Requirement already satisfied: numpy<2,>=1.22.4 in c:\\users\\abhij\\anaconda3\\lib\\site-packages (from langchain) (1.26.4)\n",
      "Collecting pydantic<3.0.0,>=2.7.4 (from langchain)\n",
      "  Downloading pydantic-2.10.3-py3-none-any.whl.metadata (172 kB)\n",
      "     ---------------------------------------- 0.0/172.0 kB ? eta -:--:--\n",
      "     ------- -------------------------------- 30.7/172.0 kB ? eta -:--:--\n",
      "     -------- ---------------------------- 41.0/172.0 kB 653.6 kB/s eta 0:00:01\n",
      "     --------------- --------------------- 71.7/172.0 kB 491.5 kB/s eta 0:00:01\n",
      "     --------------- --------------------- 71.7/172.0 kB 491.5 kB/s eta 0:00:01\n",
      "     --------------------- -------------- 102.4/172.0 kB 454.0 kB/s eta 0:00:01\n",
      "     ------------------------- ---------- 122.9/172.0 kB 450.6 kB/s eta 0:00:01\n",
      "     ---------------------------------- - 163.8/172.0 kB 492.3 kB/s eta 0:00:01\n",
      "     ------------------------------------ 172.0/172.0 kB 493.3 kB/s eta 0:00:00\n",
      "Requirement already satisfied: requests<3,>=2 in c:\\users\\abhij\\anaconda3\\lib\\site-packages (from langchain) (2.31.0)\n",
      "Requirement already satisfied: tenacity!=8.4.0,<10,>=8.1.0 in c:\\users\\abhij\\anaconda3\\lib\\site-packages (from langchain) (8.2.2)\n",
      "Requirement already satisfied: aiosignal>=1.1.2 in c:\\users\\abhij\\anaconda3\\lib\\site-packages (from aiohttp<4.0.0,>=3.8.3->langchain) (1.3.1)\n",
      "Requirement already satisfied: attrs>=17.3.0 in c:\\users\\abhij\\anaconda3\\lib\\site-packages (from aiohttp<4.0.0,>=3.8.3->langchain) (23.2.0)\n",
      "Requirement already satisfied: frozenlist>=1.1.1 in c:\\users\\abhij\\anaconda3\\lib\\site-packages (from aiohttp<4.0.0,>=3.8.3->langchain) (1.4.1)\n",
      "Requirement already satisfied: multidict<7.0,>=4.5 in c:\\users\\abhij\\anaconda3\\lib\\site-packages (from aiohttp<4.0.0,>=3.8.3->langchain) (6.0.5)\n",
      "Requirement already satisfied: yarl<2.0,>=1.0 in c:\\users\\abhij\\anaconda3\\lib\\site-packages (from aiohttp<4.0.0,>=3.8.3->langchain) (1.9.4)\n",
      "Collecting jsonpatch<2.0,>=1.33 (from langchain-core<0.4.0,>=0.3.24->langchain)\n",
      "  Downloading jsonpatch-1.33-py2.py3-none-any.whl.metadata (3.0 kB)\n",
      "Requirement already satisfied: packaging<25,>=23.2 in c:\\users\\abhij\\anaconda3\\lib\\site-packages (from langchain-core<0.4.0,>=0.3.24->langchain) (23.2)\n",
      "Requirement already satisfied: typing-extensions>=4.7 in c:\\users\\abhij\\anaconda3\\lib\\site-packages (from langchain-core<0.4.0,>=0.3.24->langchain) (4.12.2)\n",
      "Requirement already satisfied: httpx<1,>=0.23.0 in c:\\users\\abhij\\anaconda3\\lib\\site-packages (from langsmith<0.3,>=0.1.17->langchain) (0.27.0)\n",
      "Collecting orjson<4.0.0,>=3.9.14 (from langsmith<0.3,>=0.1.17->langchain)\n",
      "  Downloading orjson-3.10.12-cp311-none-win_amd64.whl.metadata (42 kB)\n",
      "     ---------------------------------------- 0.0/42.9 kB ? eta -:--:--\n",
      "     ---------------------------------------- 42.9/42.9 kB 2.2 MB/s eta 0:00:00\n",
      "Requirement already satisfied: requests-toolbelt<2.0.0,>=1.0.0 in c:\\users\\abhij\\anaconda3\\lib\\site-packages (from langsmith<0.3,>=0.1.17->langchain) (1.0.0)\n",
      "Collecting annotated-types>=0.6.0 (from pydantic<3.0.0,>=2.7.4->langchain)\n",
      "  Downloading annotated_types-0.7.0-py3-none-any.whl.metadata (15 kB)\n",
      "Collecting pydantic-core==2.27.1 (from pydantic<3.0.0,>=2.7.4->langchain)\n",
      "  Downloading pydantic_core-2.27.1-cp311-none-win_amd64.whl.metadata (6.7 kB)\n",
      "Requirement already satisfied: charset-normalizer<4,>=2 in c:\\users\\abhij\\anaconda3\\lib\\site-packages (from requests<3,>=2->langchain) (3.3.2)\n",
      "Requirement already satisfied: idna<4,>=2.5 in c:\\users\\abhij\\anaconda3\\lib\\site-packages (from requests<3,>=2->langchain) (3.6)\n",
      "Requirement already satisfied: urllib3<3,>=1.21.1 in c:\\users\\abhij\\anaconda3\\lib\\site-packages (from requests<3,>=2->langchain) (2.2.1)\n",
      "Requirement already satisfied: certifi>=2017.4.17 in c:\\users\\abhij\\anaconda3\\lib\\site-packages (from requests<3,>=2->langchain) (2024.2.2)\n",
      "Requirement already satisfied: greenlet!=0.4.17 in c:\\users\\abhij\\anaconda3\\lib\\site-packages (from SQLAlchemy<3,>=1.4->langchain) (3.0.1)\n",
      "Requirement already satisfied: anyio in c:\\users\\abhij\\anaconda3\\lib\\site-packages (from httpx<1,>=0.23.0->langsmith<0.3,>=0.1.17->langchain) (4.3.0)\n",
      "Requirement already satisfied: httpcore==1.* in c:\\users\\abhij\\anaconda3\\lib\\site-packages (from httpx<1,>=0.23.0->langsmith<0.3,>=0.1.17->langchain) (1.0.5)\n",
      "Requirement already satisfied: sniffio in c:\\users\\abhij\\anaconda3\\lib\\site-packages (from httpx<1,>=0.23.0->langsmith<0.3,>=0.1.17->langchain) (1.3.1)\n",
      "Requirement already satisfied: h11<0.15,>=0.13 in c:\\users\\abhij\\anaconda3\\lib\\site-packages (from httpcore==1.*->httpx<1,>=0.23.0->langsmith<0.3,>=0.1.17->langchain) (0.14.0)\n",
      "Requirement already satisfied: jsonpointer>=1.9 in c:\\users\\abhij\\anaconda3\\lib\\site-packages (from jsonpatch<2.0,>=1.33->langchain-core<0.4.0,>=0.3.24->langchain) (2.1)\n",
      "Downloading langchain-0.3.11-py3-none-any.whl (1.0 MB)\n",
      "   ---------------------------------------- 0.0/1.0 MB ? eta -:--:--\n",
      "   - -------------------------------------- 0.0/1.0 MB ? eta -:--:--\n",
      "   ---- ----------------------------------- 0.1/1.0 MB 1.3 MB/s eta 0:00:01\n",
      "   ---- ----------------------------------- 0.1/1.0 MB 1.3 MB/s eta 0:00:01\n",
      "   ---- ----------------------------------- 0.1/1.0 MB 1.3 MB/s eta 0:00:01\n",
      "   ------ --------------------------------- 0.2/1.0 MB 751.6 kB/s eta 0:00:02\n",
      "   ------ --------------------------------- 0.2/1.0 MB 751.6 kB/s eta 0:00:02\n",
      "   ------ --------------------------------- 0.2/1.0 MB 751.6 kB/s eta 0:00:02\n",
      "   --------- ------------------------------ 0.2/1.0 MB 686.6 kB/s eta 0:00:02\n",
      "   --------- ------------------------------ 0.2/1.0 MB 686.6 kB/s eta 0:00:02\n",
      "   ------------ --------------------------- 0.3/1.0 MB 703.0 kB/s eta 0:00:01\n",
      "   ------------ --------------------------- 0.3/1.0 MB 655.9 kB/s eta 0:00:02\n",
      "   ------------ --------------------------- 0.3/1.0 MB 655.9 kB/s eta 0:00:02\n",
      "   -------------- ------------------------- 0.4/1.0 MB 620.1 kB/s eta 0:00:02\n",
      "   -------------- ------------------------- 0.4/1.0 MB 620.1 kB/s eta 0:00:02\n",
      "   ------------------ --------------------- 0.5/1.0 MB 655.8 kB/s eta 0:00:01\n",
      "   ------------------- -------------------- 0.5/1.0 MB 669.6 kB/s eta 0:00:01\n",
      "   --------------------- ------------------ 0.5/1.0 MB 668.1 kB/s eta 0:00:01\n",
      "   --------------------- ------------------ 0.6/1.0 MB 668.4 kB/s eta 0:00:01\n",
      "   --------------------- ------------------ 0.6/1.0 MB 668.4 kB/s eta 0:00:01\n",
      "   ------------------------- -------------- 0.7/1.0 MB 688.5 kB/s eta 0:00:01\n",
      "   ------------------------- -------------- 0.7/1.0 MB 688.5 kB/s eta 0:00:01\n",
      "   ----------------------------- ---------- 0.7/1.0 MB 716.3 kB/s eta 0:00:01\n",
      "   ----------------------------- ---------- 0.7/1.0 MB 704.2 kB/s eta 0:00:01\n",
      "   -------------------------------- ------- 0.8/1.0 MB 719.1 kB/s eta 0:00:01\n",
      "   --------------------------------- ------ 0.8/1.0 MB 736.6 kB/s eta 0:00:01\n",
      "   ---------------------------------- ----- 0.9/1.0 MB 714.6 kB/s eta 0:00:01\n",
      "   ------------------------------------- -- 1.0/1.0 MB 744.7 kB/s eta 0:00:01\n",
      "   ------------------------------------- -- 1.0/1.0 MB 744.7 kB/s eta 0:00:01\n",
      "   ---------------------------------------  1.0/1.0 MB 740.2 kB/s eta 0:00:01\n",
      "   ---------------------------------------- 1.0/1.0 MB 726.4 kB/s eta 0:00:00\n",
      "Downloading langchain_core-0.3.25-py3-none-any.whl (411 kB)\n",
      "   ---------------------------------------- 0.0/411.2 kB ? eta -:--:--\n",
      "   ----- ---------------------------------- 61.4/411.2 kB 1.6 MB/s eta 0:00:01\n",
      "   ----- ---------------------------------- 61.4/411.2 kB 1.6 MB/s eta 0:00:01\n",
      "   ------------- -------------------------- 143.4/411.2 kB 1.2 MB/s eta 0:00:01\n",
      "   ------------- -------------------------- 143.4/411.2 kB 1.2 MB/s eta 0:00:01\n",
      "   -------------------- ----------------- 225.3/411.2 kB 915.1 kB/s eta 0:00:01\n",
      "   ----------------------- -------------- 256.0/411.2 kB 871.5 kB/s eta 0:00:01\n",
      "   ------------------------- ------------ 276.5/411.2 kB 944.1 kB/s eta 0:00:01\n",
      "   ----------------------------- -------- 317.4/411.2 kB 853.3 kB/s eta 0:00:01\n",
      "   --------------------------------- ---- 358.4/411.2 kB 855.4 kB/s eta 0:00:01\n",
      "   -------------------------------------  409.6/411.2 kB 879.6 kB/s eta 0:00:01\n",
      "   -------------------------------------- 411.2/411.2 kB 826.7 kB/s eta 0:00:00\n",
      "Downloading langchain_text_splitters-0.3.2-py3-none-any.whl (25 kB)\n",
      "Downloading langsmith-0.2.3-py3-none-any.whl (320 kB)\n",
      "   ---------------------------------------- 0.0/320.7 kB ? eta -:--:--\n",
      "   ----- ---------------------------------- 41.0/320.7 kB 1.9 MB/s eta 0:00:01\n",
      "   ----- ---------------------------------- 41.0/320.7 kB 1.9 MB/s eta 0:00:01\n",
      "   ------------- ------------------------ 112.6/320.7 kB 939.4 kB/s eta 0:00:01\n",
      "   ------------------- -------------------- 153.6/320.7 kB 1.0 MB/s eta 0:00:01\n",
      "   ------------------------ ------------- 204.8/320.7 kB 958.4 kB/s eta 0:00:01\n",
      "   ----------------------------- ---------- 235.5/320.7 kB 1.0 MB/s eta 0:00:01\n",
      "   ---------------------------------- ----- 276.5/320.7 kB 1.0 MB/s eta 0:00:01\n",
      "   -------------------------------------- 320.7/320.7 kB 902.4 kB/s eta 0:00:00\n",
      "Downloading pydantic-2.10.3-py3-none-any.whl (456 kB)\n",
      "   ---------------------------------------- 0.0/457.0 kB ? eta -:--:--\n",
      "   -- ------------------------------------- 30.7/457.0 kB ? eta -:--:--\n",
      "   ----- ---------------------------------- 61.4/457.0 kB 1.6 MB/s eta 0:00:01\n",
      "   ----- ---------------------------------- 61.4/457.0 kB 1.6 MB/s eta 0:00:01\n",
      "   ------ -------------------------------- 81.9/457.0 kB 651.6 kB/s eta 0:00:01\n",
      "   ------ -------------------------------- 81.9/457.0 kB 651.6 kB/s eta 0:00:01\n",
      "   ----------------- -------------------- 204.8/457.0 kB 827.9 kB/s eta 0:00:01\n",
      "   ------------------ ------------------- 225.3/457.0 kB 860.2 kB/s eta 0:00:01\n",
      "   ------------------ ------------------- 225.3/457.0 kB 860.2 kB/s eta 0:00:01\n",
      "   ------------------------- ------------ 307.2/457.0 kB 791.9 kB/s eta 0:00:01\n",
      "   ------------------------- ------------ 307.2/457.0 kB 791.9 kB/s eta 0:00:01\n",
      "   ------------------------------ ------- 368.6/457.0 kB 818.3 kB/s eta 0:00:01\n",
      "   -------------------------------------  450.6/457.0 kB 853.3 kB/s eta 0:00:01\n",
      "   -------------------------------------- 457.0/457.0 kB 839.8 kB/s eta 0:00:00\n",
      "Downloading pydantic_core-2.27.1-cp311-none-win_amd64.whl (2.0 MB)\n",
      "   ---------------------------------------- 0.0/2.0 MB ? eta -:--:--\n",
      "   - -------------------------------------- 0.1/2.0 MB 4.5 MB/s eta 0:00:01\n",
      "   --- ------------------------------------ 0.2/2.0 MB 2.0 MB/s eta 0:00:01\n",
      "   --- ------------------------------------ 0.2/2.0 MB 1.5 MB/s eta 0:00:02\n",
      "   --- ------------------------------------ 0.2/2.0 MB 1.5 MB/s eta 0:00:02\n",
      "   ----- ---------------------------------- 0.3/2.0 MB 1.3 MB/s eta 0:00:02\n",
      "   ------ --------------------------------- 0.3/2.0 MB 1.2 MB/s eta 0:00:02\n",
      "   ------- -------------------------------- 0.4/2.0 MB 1.1 MB/s eta 0:00:02\n",
      "   ------- -------------------------------- 0.4/2.0 MB 1.1 MB/s eta 0:00:02\n",
      "   ------- -------------------------------- 0.4/2.0 MB 1.1 MB/s eta 0:00:02\n",
      "   ---------- ----------------------------- 0.5/2.0 MB 1.1 MB/s eta 0:00:02\n",
      "   ----------- ---------------------------- 0.6/2.0 MB 1.1 MB/s eta 0:00:02\n",
      "   ----------- ---------------------------- 0.6/2.0 MB 1.1 MB/s eta 0:00:02\n",
      "   ------------- -------------------------- 0.7/2.0 MB 1.1 MB/s eta 0:00:02\n",
      "   ------------- -------------------------- 0.7/2.0 MB 1.1 MB/s eta 0:00:02\n",
      "   -------------- ------------------------- 0.7/2.0 MB 1.0 MB/s eta 0:00:02\n",
      "   -------------- ------------------------- 0.7/2.0 MB 1.0 MB/s eta 0:00:02\n",
      "   -------------- ------------------------- 0.7/2.0 MB 1.0 MB/s eta 0:00:02\n",
      "   ---------------- ----------------------- 0.8/2.0 MB 964.6 kB/s eta 0:00:02\n",
      "   ---------------- ----------------------- 0.8/2.0 MB 964.6 kB/s eta 0:00:02\n",
      "   ------------------ --------------------- 0.9/2.0 MB 999.6 kB/s eta 0:00:02\n",
      "   ------------------ --------------------- 0.9/2.0 MB 999.6 kB/s eta 0:00:02\n",
      "   -------------------- ------------------- 1.0/2.0 MB 987.7 kB/s eta 0:00:01\n",
      "   -------------------- ------------------- 1.0/2.0 MB 987.7 kB/s eta 0:00:01\n",
      "   -------------------- ------------------- 1.0/2.0 MB 922.5 kB/s eta 0:00:02\n",
      "   -------------------- ------------------- 1.0/2.0 MB 922.5 kB/s eta 0:00:02\n",
      "   -------------------- ------------------- 1.0/2.0 MB 922.5 kB/s eta 0:00:02\n",
      "   -------------------- ------------------- 1.0/2.0 MB 922.5 kB/s eta 0:00:02\n",
      "   -------------------- ------------------- 1.0/2.0 MB 922.5 kB/s eta 0:00:02\n",
      "   --------------------- ------------------ 1.1/2.0 MB 792.4 kB/s eta 0:00:02\n",
      "   ---------------------- ----------------- 1.1/2.0 MB 820.7 kB/s eta 0:00:02\n",
      "   ------------------------ --------------- 1.2/2.0 MB 833.2 kB/s eta 0:00:01\n",
      "   ------------------------- -------------- 1.2/2.0 MB 845.7 kB/s eta 0:00:01\n",
      "   ------------------------- -------------- 1.3/2.0 MB 815.5 kB/s eta 0:00:01\n",
      "   --------------------------- ------------ 1.4/2.0 MB 863.1 kB/s eta 0:00:01\n",
      "   ---------------------------- ----------- 1.4/2.0 MB 873.7 kB/s eta 0:00:01\n",
      "   ----------------------------- ---------- 1.5/2.0 MB 875.8 kB/s eta 0:00:01\n",
      "   ----------------------------- ---------- 1.5/2.0 MB 865.9 kB/s eta 0:00:01\n",
      "   ----------------------------- ---------- 1.5/2.0 MB 865.9 kB/s eta 0:00:01\n",
      "   -------------------------------- ------- 1.6/2.0 MB 883.2 kB/s eta 0:00:01\n",
      "   -------------------------------- ------- 1.6/2.0 MB 886.8 kB/s eta 0:00:01\n",
      "   ----------------------------------- ---- 1.8/2.0 MB 918.2 kB/s eta 0:00:01\n",
      "   ------------------------------------ --- 1.8/2.0 MB 919.4 kB/s eta 0:00:01\n",
      "   ------------------------------------- -- 1.8/2.0 MB 916.5 kB/s eta 0:00:01\n",
      "   -------------------------------------- - 1.9/2.0 MB 925.5 kB/s eta 0:00:01\n",
      "   ---------------------------------------  1.9/2.0 MB 933.2 kB/s eta 0:00:01\n",
      "   ---------------------------------------- 2.0/2.0 MB 927.4 kB/s eta 0:00:00\n",
      "Downloading annotated_types-0.7.0-py3-none-any.whl (13 kB)\n",
      "Downloading jsonpatch-1.33-py2.py3-none-any.whl (12 kB)\n",
      "Downloading orjson-3.10.12-cp311-none-win_amd64.whl (135 kB)\n",
      "   ---------------------------------------- 0.0/135.1 kB ? eta -:--:--\n",
      "   --------------------------- ------------ 92.2/135.1 kB 5.5 MB/s eta 0:00:01\n",
      "   --------------------------------- ------ 112.6/135.1 kB 1.7 MB/s eta 0:00:01\n",
      "   ---------------------------------------- 135.1/135.1 kB 1.1 MB/s eta 0:00:00\n",
      "Installing collected packages: pydantic-core, orjson, jsonpatch, annotated-types, pydantic, langsmith, langchain-core, langchain-text-splitters, langchain\n",
      "  Attempting uninstall: jsonpatch\n",
      "    Found existing installation: jsonpatch 1.32\n",
      "    Uninstalling jsonpatch-1.32:\n",
      "      Successfully uninstalled jsonpatch-1.32\n",
      "  Attempting uninstall: pydantic\n",
      "    Found existing installation: pydantic 1.10.12\n",
      "    Uninstalling pydantic-1.10.12:\n",
      "      Successfully uninstalled pydantic-1.10.12\n",
      "Successfully installed annotated-types-0.7.0 jsonpatch-1.33 langchain-0.3.11 langchain-core-0.3.25 langchain-text-splitters-0.3.2 langsmith-0.2.3 orjson-3.10.12 pydantic-2.10.3 pydantic-core-2.27.1\n"
     ]
    },
    {
     "name": "stderr",
     "output_type": "stream",
     "text": [
      "ERROR: pip's dependency resolver does not currently take into account all the packages that are installed. This behaviour is the source of the following dependency conflicts.\n",
      "anaconda-cloud-auth 0.1.4 requires pydantic<2.0, but you have pydantic 2.10.3 which is incompatible.\n"
     ]
    }
   ],
   "source": [
    "!pip install langchain"
   ]
  },
  {
   "cell_type": "code",
   "execution_count": 10,
   "metadata": {},
   "outputs": [
    {
     "name": "stdout",
     "output_type": "stream",
     "text": [
      "Collecting langchain.community\n",
      "  Downloading langchain_community-0.3.11-py3-none-any.whl.metadata (2.9 kB)\n",
      "Requirement already satisfied: PyYAML>=5.3 in c:\\users\\abhij\\anaconda3\\lib\\site-packages (from langchain.community) (6.0.1)\n",
      "Requirement already satisfied: SQLAlchemy<3,>=1.4 in c:\\users\\abhij\\anaconda3\\lib\\site-packages (from langchain.community) (2.0.25)\n",
      "Requirement already satisfied: aiohttp<4.0.0,>=3.8.3 in c:\\users\\abhij\\anaconda3\\lib\\site-packages (from langchain.community) (3.9.5)\n",
      "Collecting dataclasses-json<0.7,>=0.5.7 (from langchain.community)\n",
      "  Downloading dataclasses_json-0.6.7-py3-none-any.whl.metadata (25 kB)\n",
      "Collecting httpx-sse<0.5.0,>=0.4.0 (from langchain.community)\n",
      "  Downloading httpx_sse-0.4.0-py3-none-any.whl.metadata (9.0 kB)\n",
      "Requirement already satisfied: langchain<0.4.0,>=0.3.11 in c:\\users\\abhij\\anaconda3\\lib\\site-packages (from langchain.community) (0.3.11)\n",
      "Requirement already satisfied: langchain-core<0.4.0,>=0.3.24 in c:\\users\\abhij\\anaconda3\\lib\\site-packages (from langchain.community) (0.3.25)\n",
      "Requirement already satisfied: langsmith<0.3,>=0.1.125 in c:\\users\\abhij\\anaconda3\\lib\\site-packages (from langchain.community) (0.2.3)\n",
      "Requirement already satisfied: numpy<2,>=1.22.4 in c:\\users\\abhij\\anaconda3\\lib\\site-packages (from langchain.community) (1.26.4)\n",
      "Collecting pydantic-settings<3.0.0,>=2.4.0 (from langchain.community)\n",
      "  Downloading pydantic_settings-2.7.0-py3-none-any.whl.metadata (3.5 kB)\n",
      "Requirement already satisfied: requests<3,>=2 in c:\\users\\abhij\\anaconda3\\lib\\site-packages (from langchain.community) (2.31.0)\n",
      "Requirement already satisfied: tenacity!=8.4.0,<10,>=8.1.0 in c:\\users\\abhij\\anaconda3\\lib\\site-packages (from langchain.community) (8.2.2)\n",
      "Requirement already satisfied: aiosignal>=1.1.2 in c:\\users\\abhij\\anaconda3\\lib\\site-packages (from aiohttp<4.0.0,>=3.8.3->langchain.community) (1.3.1)\n",
      "Requirement already satisfied: attrs>=17.3.0 in c:\\users\\abhij\\anaconda3\\lib\\site-packages (from aiohttp<4.0.0,>=3.8.3->langchain.community) (23.2.0)\n",
      "Requirement already satisfied: frozenlist>=1.1.1 in c:\\users\\abhij\\anaconda3\\lib\\site-packages (from aiohttp<4.0.0,>=3.8.3->langchain.community) (1.4.1)\n",
      "Requirement already satisfied: multidict<7.0,>=4.5 in c:\\users\\abhij\\anaconda3\\lib\\site-packages (from aiohttp<4.0.0,>=3.8.3->langchain.community) (6.0.5)\n",
      "Requirement already satisfied: yarl<2.0,>=1.0 in c:\\users\\abhij\\anaconda3\\lib\\site-packages (from aiohttp<4.0.0,>=3.8.3->langchain.community) (1.9.4)\n",
      "Collecting marshmallow<4.0.0,>=3.18.0 (from dataclasses-json<0.7,>=0.5.7->langchain.community)\n",
      "  Downloading marshmallow-3.23.1-py3-none-any.whl.metadata (7.5 kB)\n",
      "Collecting typing-inspect<1,>=0.4.0 (from dataclasses-json<0.7,>=0.5.7->langchain.community)\n",
      "  Downloading typing_inspect-0.9.0-py3-none-any.whl.metadata (1.5 kB)\n",
      "Requirement already satisfied: langchain-text-splitters<0.4.0,>=0.3.0 in c:\\users\\abhij\\anaconda3\\lib\\site-packages (from langchain<0.4.0,>=0.3.11->langchain.community) (0.3.2)\n",
      "Requirement already satisfied: pydantic<3.0.0,>=2.7.4 in c:\\users\\abhij\\anaconda3\\lib\\site-packages (from langchain<0.4.0,>=0.3.11->langchain.community) (2.10.3)\n",
      "Requirement already satisfied: jsonpatch<2.0,>=1.33 in c:\\users\\abhij\\anaconda3\\lib\\site-packages (from langchain-core<0.4.0,>=0.3.24->langchain.community) (1.33)\n",
      "Requirement already satisfied: packaging<25,>=23.2 in c:\\users\\abhij\\anaconda3\\lib\\site-packages (from langchain-core<0.4.0,>=0.3.24->langchain.community) (23.2)\n",
      "Requirement already satisfied: typing-extensions>=4.7 in c:\\users\\abhij\\anaconda3\\lib\\site-packages (from langchain-core<0.4.0,>=0.3.24->langchain.community) (4.12.2)\n",
      "Requirement already satisfied: httpx<1,>=0.23.0 in c:\\users\\abhij\\anaconda3\\lib\\site-packages (from langsmith<0.3,>=0.1.125->langchain.community) (0.27.0)\n",
      "Requirement already satisfied: orjson<4.0.0,>=3.9.14 in c:\\users\\abhij\\anaconda3\\lib\\site-packages (from langsmith<0.3,>=0.1.125->langchain.community) (3.10.12)\n",
      "Requirement already satisfied: requests-toolbelt<2.0.0,>=1.0.0 in c:\\users\\abhij\\anaconda3\\lib\\site-packages (from langsmith<0.3,>=0.1.125->langchain.community) (1.0.0)\n",
      "Requirement already satisfied: python-dotenv>=0.21.0 in c:\\users\\abhij\\anaconda3\\lib\\site-packages (from pydantic-settings<3.0.0,>=2.4.0->langchain.community) (0.21.0)\n",
      "Requirement already satisfied: charset-normalizer<4,>=2 in c:\\users\\abhij\\anaconda3\\lib\\site-packages (from requests<3,>=2->langchain.community) (3.3.2)\n",
      "Requirement already satisfied: idna<4,>=2.5 in c:\\users\\abhij\\anaconda3\\lib\\site-packages (from requests<3,>=2->langchain.community) (3.6)\n",
      "Requirement already satisfied: urllib3<3,>=1.21.1 in c:\\users\\abhij\\anaconda3\\lib\\site-packages (from requests<3,>=2->langchain.community) (2.2.1)\n",
      "Requirement already satisfied: certifi>=2017.4.17 in c:\\users\\abhij\\anaconda3\\lib\\site-packages (from requests<3,>=2->langchain.community) (2024.2.2)\n",
      "Requirement already satisfied: greenlet!=0.4.17 in c:\\users\\abhij\\anaconda3\\lib\\site-packages (from SQLAlchemy<3,>=1.4->langchain.community) (3.0.1)\n",
      "Requirement already satisfied: anyio in c:\\users\\abhij\\anaconda3\\lib\\site-packages (from httpx<1,>=0.23.0->langsmith<0.3,>=0.1.125->langchain.community) (4.3.0)\n",
      "Requirement already satisfied: httpcore==1.* in c:\\users\\abhij\\anaconda3\\lib\\site-packages (from httpx<1,>=0.23.0->langsmith<0.3,>=0.1.125->langchain.community) (1.0.5)\n",
      "Requirement already satisfied: sniffio in c:\\users\\abhij\\anaconda3\\lib\\site-packages (from httpx<1,>=0.23.0->langsmith<0.3,>=0.1.125->langchain.community) (1.3.1)\n",
      "Requirement already satisfied: h11<0.15,>=0.13 in c:\\users\\abhij\\anaconda3\\lib\\site-packages (from httpcore==1.*->httpx<1,>=0.23.0->langsmith<0.3,>=0.1.125->langchain.community) (0.14.0)\n",
      "Requirement already satisfied: jsonpointer>=1.9 in c:\\users\\abhij\\anaconda3\\lib\\site-packages (from jsonpatch<2.0,>=1.33->langchain-core<0.4.0,>=0.3.24->langchain.community) (2.1)\n",
      "Requirement already satisfied: annotated-types>=0.6.0 in c:\\users\\abhij\\anaconda3\\lib\\site-packages (from pydantic<3.0.0,>=2.7.4->langchain<0.4.0,>=0.3.11->langchain.community) (0.7.0)\n",
      "Requirement already satisfied: pydantic-core==2.27.1 in c:\\users\\abhij\\anaconda3\\lib\\site-packages (from pydantic<3.0.0,>=2.7.4->langchain<0.4.0,>=0.3.11->langchain.community) (2.27.1)\n",
      "Requirement already satisfied: mypy-extensions>=0.3.0 in c:\\users\\abhij\\anaconda3\\lib\\site-packages (from typing-inspect<1,>=0.4.0->dataclasses-json<0.7,>=0.5.7->langchain.community) (1.0.0)\n",
      "Downloading langchain_community-0.3.11-py3-none-any.whl (2.5 MB)\n",
      "   ---------------------------------------- 0.0/2.5 MB ? eta -:--:--\n",
      "   ---------------------------------------- 0.0/2.5 MB ? eta -:--:--\n",
      "    --------------------------------------- 0.0/2.5 MB 991.0 kB/s eta 0:00:03\n",
      "   - -------------------------------------- 0.1/2.5 MB 1.1 MB/s eta 0:00:03\n",
      "   -- ------------------------------------- 0.1/2.5 MB 1.1 MB/s eta 0:00:03\n",
      "   --- ------------------------------------ 0.2/2.5 MB 1.2 MB/s eta 0:00:02\n",
      "   --- ------------------------------------ 0.2/2.5 MB 1.2 MB/s eta 0:00:02\n",
      "   ---- ----------------------------------- 0.3/2.5 MB 1.0 MB/s eta 0:00:03\n",
      "   ---- ----------------------------------- 0.3/2.5 MB 1.1 MB/s eta 0:00:03\n",
      "   ---- ----------------------------------- 0.3/2.5 MB 1.1 MB/s eta 0:00:03\n",
      "   ------ --------------------------------- 0.4/2.5 MB 1.0 MB/s eta 0:00:02\n",
      "   ------- -------------------------------- 0.5/2.5 MB 1.1 MB/s eta 0:00:02\n",
      "   -------- ------------------------------- 0.6/2.5 MB 1.1 MB/s eta 0:00:02\n",
      "   --------- ------------------------------ 0.6/2.5 MB 1.1 MB/s eta 0:00:02\n",
      "   ---------- ----------------------------- 0.6/2.5 MB 1.1 MB/s eta 0:00:02\n",
      "   ----------- ---------------------------- 0.7/2.5 MB 1.1 MB/s eta 0:00:02\n",
      "   ----------- ---------------------------- 0.7/2.5 MB 1.1 MB/s eta 0:00:02\n",
      "   -------------- ------------------------- 0.9/2.5 MB 1.2 MB/s eta 0:00:02\n",
      "   -------------- ------------------------- 0.9/2.5 MB 1.2 MB/s eta 0:00:02\n",
      "   ---------------- ----------------------- 1.0/2.5 MB 1.2 MB/s eta 0:00:02\n",
      "   ---------------- ----------------------- 1.0/2.5 MB 1.2 MB/s eta 0:00:02\n",
      "   ---------------- ----------------------- 1.0/2.5 MB 1.2 MB/s eta 0:00:02\n",
      "   ------------------- -------------------- 1.2/2.5 MB 1.2 MB/s eta 0:00:02\n",
      "   -------------------- ------------------- 1.3/2.5 MB 1.2 MB/s eta 0:00:01\n",
      "   --------------------- ------------------ 1.3/2.5 MB 1.3 MB/s eta 0:00:01\n",
      "   --------------------- ------------------ 1.4/2.5 MB 1.2 MB/s eta 0:00:01\n",
      "   ----------------------- ---------------- 1.4/2.5 MB 1.2 MB/s eta 0:00:01\n",
      "   ------------------------ --------------- 1.5/2.5 MB 1.3 MB/s eta 0:00:01\n",
      "   ------------------------ --------------- 1.5/2.5 MB 1.3 MB/s eta 0:00:01\n",
      "   -------------------------- ------------- 1.6/2.5 MB 1.3 MB/s eta 0:00:01\n",
      "   --------------------------- ------------ 1.7/2.5 MB 1.3 MB/s eta 0:00:01\n",
      "   ----------------------------- ---------- 1.8/2.5 MB 1.3 MB/s eta 0:00:01\n",
      "   ------------------------------ --------- 1.9/2.5 MB 1.3 MB/s eta 0:00:01\n",
      "   ------------------------------- -------- 1.9/2.5 MB 1.3 MB/s eta 0:00:01\n",
      "   ------------------------------- -------- 1.9/2.5 MB 1.3 MB/s eta 0:00:01\n",
      "   ------------------------------- -------- 1.9/2.5 MB 1.3 MB/s eta 0:00:01\n",
      "   --------------------------------- ------ 2.0/2.5 MB 1.3 MB/s eta 0:00:01\n",
      "   ---------------------------------- ----- 2.1/2.5 MB 1.3 MB/s eta 0:00:01\n",
      "   ---------------------------------- ----- 2.1/2.5 MB 1.3 MB/s eta 0:00:01\n",
      "   ----------------------------------- ---- 2.2/2.5 MB 1.2 MB/s eta 0:00:01\n",
      "   ------------------------------------ --- 2.2/2.5 MB 1.2 MB/s eta 0:00:01\n",
      "   ------------------------------------- -- 2.3/2.5 MB 1.2 MB/s eta 0:00:01\n",
      "   -------------------------------------- - 2.4/2.5 MB 1.3 MB/s eta 0:00:01\n",
      "   ---------------------------------------  2.5/2.5 MB 1.3 MB/s eta 0:00:01\n",
      "   ---------------------------------------- 2.5/2.5 MB 1.2 MB/s eta 0:00:00\n",
      "Downloading dataclasses_json-0.6.7-py3-none-any.whl (28 kB)\n",
      "Downloading httpx_sse-0.4.0-py3-none-any.whl (7.8 kB)\n",
      "Downloading pydantic_settings-2.7.0-py3-none-any.whl (29 kB)\n",
      "Downloading marshmallow-3.23.1-py3-none-any.whl (49 kB)\n",
      "   ---------------------------------------- 0.0/49.5 kB ? eta -:--:--\n",
      "   ---------------------------------------- 49.5/49.5 kB 1.2 MB/s eta 0:00:00\n",
      "Downloading typing_inspect-0.9.0-py3-none-any.whl (8.8 kB)\n",
      "Installing collected packages: typing-inspect, marshmallow, httpx-sse, dataclasses-json, pydantic-settings, langchain.community\n",
      "Successfully installed dataclasses-json-0.6.7 httpx-sse-0.4.0 langchain.community-0.3.11 marshmallow-3.23.1 pydantic-settings-2.7.0 typing-inspect-0.9.0\n"
     ]
    }
   ],
   "source": [
    "!pip install langchain.community"
   ]
  },
  {
   "cell_type": "code",
   "execution_count": 13,
   "metadata": {},
   "outputs": [
    {
     "name": "stderr",
     "output_type": "stream",
     "text": [
      "C:\\Users\\abhij\\AppData\\Local\\Temp\\ipykernel_15384\\2061129224.py:1: LangChainDeprecationWarning: The class `HuggingFaceEmbeddings` was deprecated in LangChain 0.2.2 and will be removed in 1.0. An updated version of the class exists in the :class:`~langchain-huggingface package and should be used instead. To use it run `pip install -U :class:`~langchain-huggingface` and import as `from :class:`~langchain_huggingface import HuggingFaceEmbeddings``.\n",
      "  embeddings = HuggingFaceEmbeddings(model_name=\"sentence-transformers/paraphrase-MiniLM-L6-v2\")\n"
     ]
    }
   ],
   "source": [
    "embeddings = HuggingFaceEmbeddings(model_name=\"sentence-transformers/paraphrase-MiniLM-L6-v2\")\n"
   ]
  },
  {
   "cell_type": "code",
   "execution_count": 15,
   "metadata": {},
   "outputs": [],
   "source": [
    "embedding_vector = embeddings.embed_query(\"hello this is abhijeet\")\n"
   ]
  },
  {
   "cell_type": "code",
   "execution_count": 17,
   "metadata": {},
   "outputs": [
    {
     "data": {
      "text/plain": [
       "384"
      ]
     },
     "execution_count": 17,
     "metadata": {},
     "output_type": "execute_result"
    }
   ],
   "source": [
    "len(embedding_vector)"
   ]
  },
  {
   "cell_type": "code",
   "execution_count": null,
   "metadata": {},
   "outputs": [],
   "source": []
  },
  {
   "cell_type": "markdown",
   "metadata": {},
   "source": [
    "One more apporoch used majorly in finetunning"
   ]
  },
  {
   "cell_type": "markdown",
   "metadata": {},
   "source": []
  }
 ],
 "metadata": {
  "kernelspec": {
   "display_name": "base",
   "language": "python",
   "name": "python3"
  },
  "language_info": {
   "codemirror_mode": {
    "name": "ipython",
    "version": 3
   },
   "file_extension": ".py",
   "mimetype": "text/x-python",
   "name": "python",
   "nbconvert_exporter": "python",
   "pygments_lexer": "ipython3",
   "version": "3.11.7"
  }
 },
 "nbformat": 4,
 "nbformat_minor": 2
}
