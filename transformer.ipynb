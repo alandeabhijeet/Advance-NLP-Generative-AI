{
 "cells": [
  {
   "cell_type": "code",
   "execution_count": 10,
   "metadata": {},
   "outputs": [],
   "source": [
    "import torch\n",
    "import torch.nn as nn\n",
    "import torch.optim as optim\n",
    "import gzip\n",
    "import time\n",
    "import math\n",
    "from torch.nn.utils.rnn import pad_sequence  # Corrected import\n",
    "import torch.utils.data as data\n",
    "from tqdm import tqdm \n"
   ]
  },
  {
   "cell_type": "code",
   "execution_count": 6,
   "metadata": {},
   "outputs": [
    {
     "name": "stdout",
     "output_type": "stream",
     "text": [
      "Collecting spacy\n",
      "  Using cached spacy-3.8.4-cp311-cp311-win_amd64.whl.metadata (27 kB)\n",
      "Collecting spacy-legacy<3.1.0,>=3.0.11 (from spacy)\n",
      "  Using cached spacy_legacy-3.0.12-py2.py3-none-any.whl.metadata (2.8 kB)\n",
      "Collecting spacy-loggers<2.0.0,>=1.0.0 (from spacy)\n",
      "  Using cached spacy_loggers-1.0.5-py3-none-any.whl.metadata (23 kB)\n",
      "Collecting murmurhash<1.1.0,>=0.28.0 (from spacy)\n",
      "  Using cached murmurhash-1.0.12-cp311-cp311-win_amd64.whl.metadata (2.2 kB)\n",
      "Collecting cymem<2.1.0,>=2.0.2 (from spacy)\n",
      "  Using cached cymem-2.0.11-cp311-cp311-win_amd64.whl.metadata (8.8 kB)\n",
      "Collecting preshed<3.1.0,>=3.0.2 (from spacy)\n",
      "  Using cached preshed-3.0.9-cp311-cp311-win_amd64.whl.metadata (2.2 kB)\n",
      "Collecting thinc<8.4.0,>=8.3.4 (from spacy)\n",
      "  Using cached thinc-8.3.4-cp311-cp311-win_amd64.whl.metadata (15 kB)\n",
      "Collecting wasabi<1.2.0,>=0.9.1 (from spacy)\n",
      "  Using cached wasabi-1.1.3-py3-none-any.whl.metadata (28 kB)\n",
      "Collecting srsly<3.0.0,>=2.4.3 (from spacy)\n",
      "  Using cached srsly-2.5.1-cp311-cp311-win_amd64.whl.metadata (20 kB)\n",
      "Collecting catalogue<2.1.0,>=2.0.6 (from spacy)\n",
      "  Using cached catalogue-2.0.10-py3-none-any.whl.metadata (14 kB)\n",
      "Collecting weasel<0.5.0,>=0.1.0 (from spacy)\n",
      "  Using cached weasel-0.4.1-py3-none-any.whl.metadata (4.6 kB)\n",
      "Collecting typer<1.0.0,>=0.3.0 (from spacy)\n",
      "  Using cached typer-0.15.1-py3-none-any.whl.metadata (15 kB)\n",
      "Requirement already satisfied: tqdm<5.0.0,>=4.38.0 in c:\\users\\abhij\\anaconda3\\lib\\site-packages (from spacy) (4.65.0)\n",
      "Requirement already satisfied: numpy>=1.19.0 in c:\\users\\abhij\\anaconda3\\lib\\site-packages (from spacy) (1.26.4)\n",
      "Requirement already satisfied: requests<3.0.0,>=2.13.0 in c:\\users\\abhij\\anaconda3\\lib\\site-packages (from spacy) (2.31.0)\n",
      "Requirement already satisfied: pydantic!=1.8,!=1.8.1,<3.0.0,>=1.7.4 in c:\\users\\abhij\\anaconda3\\lib\\site-packages (from spacy) (2.10.3)\n",
      "Requirement already satisfied: jinja2 in c:\\users\\abhij\\anaconda3\\lib\\site-packages (from spacy) (3.1.3)\n",
      "Requirement already satisfied: setuptools in c:\\users\\abhij\\anaconda3\\lib\\site-packages (from spacy) (69.2.0)\n",
      "Requirement already satisfied: packaging>=20.0 in c:\\users\\abhij\\anaconda3\\lib\\site-packages (from spacy) (23.2)\n",
      "Collecting langcodes<4.0.0,>=3.2.0 (from spacy)\n",
      "  Using cached langcodes-3.5.0-py3-none-any.whl.metadata (29 kB)\n",
      "Collecting language-data>=1.2 (from langcodes<4.0.0,>=3.2.0->spacy)\n",
      "  Using cached language_data-1.3.0-py3-none-any.whl.metadata (4.3 kB)\n",
      "Requirement already satisfied: annotated-types>=0.6.0 in c:\\users\\abhij\\anaconda3\\lib\\site-packages (from pydantic!=1.8,!=1.8.1,<3.0.0,>=1.7.4->spacy) (0.7.0)\n",
      "Requirement already satisfied: pydantic-core==2.27.1 in c:\\users\\abhij\\anaconda3\\lib\\site-packages (from pydantic!=1.8,!=1.8.1,<3.0.0,>=1.7.4->spacy) (2.27.1)\n",
      "Requirement already satisfied: typing-extensions>=4.12.2 in c:\\users\\abhij\\anaconda3\\lib\\site-packages (from pydantic!=1.8,!=1.8.1,<3.0.0,>=1.7.4->spacy) (4.12.2)\n",
      "Requirement already satisfied: charset-normalizer<4,>=2 in c:\\users\\abhij\\anaconda3\\lib\\site-packages (from requests<3.0.0,>=2.13.0->spacy) (3.3.2)\n",
      "Requirement already satisfied: idna<4,>=2.5 in c:\\users\\abhij\\anaconda3\\lib\\site-packages (from requests<3.0.0,>=2.13.0->spacy) (3.6)\n",
      "Requirement already satisfied: urllib3<3,>=1.21.1 in c:\\users\\abhij\\anaconda3\\lib\\site-packages (from requests<3.0.0,>=2.13.0->spacy) (2.2.1)\n",
      "Requirement already satisfied: certifi>=2017.4.17 in c:\\users\\abhij\\anaconda3\\lib\\site-packages (from requests<3.0.0,>=2.13.0->spacy) (2024.2.2)\n",
      "Collecting blis<1.3.0,>=1.2.0 (from thinc<8.4.0,>=8.3.4->spacy)\n",
      "  Using cached blis-1.2.0-cp311-cp311-win_amd64.whl.metadata (7.9 kB)\n",
      "Collecting confection<1.0.0,>=0.0.1 (from thinc<8.4.0,>=8.3.4->spacy)\n",
      "  Using cached confection-0.1.5-py3-none-any.whl.metadata (19 kB)\n",
      "Requirement already satisfied: colorama in c:\\users\\abhij\\anaconda3\\lib\\site-packages (from tqdm<5.0.0,>=4.38.0->spacy) (0.4.6)\n",
      "Requirement already satisfied: click>=8.0.0 in c:\\users\\abhij\\anaconda3\\lib\\site-packages (from typer<1.0.0,>=0.3.0->spacy) (8.1.7)\n",
      "Collecting shellingham>=1.3.0 (from typer<1.0.0,>=0.3.0->spacy)\n",
      "  Using cached shellingham-1.5.4-py2.py3-none-any.whl.metadata (3.5 kB)\n",
      "Requirement already satisfied: rich>=10.11.0 in c:\\users\\abhij\\anaconda3\\lib\\site-packages (from typer<1.0.0,>=0.3.0->spacy) (13.3.5)\n",
      "Collecting cloudpathlib<1.0.0,>=0.7.0 (from weasel<0.5.0,>=0.1.0->spacy)\n",
      "  Using cached cloudpathlib-0.20.0-py3-none-any.whl.metadata (14 kB)\n",
      "Requirement already satisfied: smart-open<8.0.0,>=5.2.1 in c:\\users\\abhij\\anaconda3\\lib\\site-packages (from weasel<0.5.0,>=0.1.0->spacy) (5.2.1)\n",
      "Requirement already satisfied: MarkupSafe>=2.0 in c:\\users\\abhij\\anaconda3\\lib\\site-packages (from jinja2->spacy) (2.1.5)\n",
      "Collecting marisa-trie>=1.1.0 (from language-data>=1.2->langcodes<4.0.0,>=3.2.0->spacy)\n",
      "  Using cached marisa_trie-1.2.1-cp311-cp311-win_amd64.whl.metadata (9.3 kB)\n",
      "Requirement already satisfied: markdown-it-py<3.0.0,>=2.2.0 in c:\\users\\abhij\\anaconda3\\lib\\site-packages (from rich>=10.11.0->typer<1.0.0,>=0.3.0->spacy) (2.2.0)\n",
      "Requirement already satisfied: pygments<3.0.0,>=2.13.0 in c:\\users\\abhij\\anaconda3\\lib\\site-packages (from rich>=10.11.0->typer<1.0.0,>=0.3.0->spacy) (2.15.1)\n",
      "Requirement already satisfied: mdurl~=0.1 in c:\\users\\abhij\\anaconda3\\lib\\site-packages (from markdown-it-py<3.0.0,>=2.2.0->rich>=10.11.0->typer<1.0.0,>=0.3.0->spacy) (0.1.0)\n",
      "Using cached spacy-3.8.4-cp311-cp311-win_amd64.whl (12.2 MB)\n",
      "Using cached catalogue-2.0.10-py3-none-any.whl (17 kB)\n",
      "Using cached cymem-2.0.11-cp311-cp311-win_amd64.whl (39 kB)\n",
      "Using cached langcodes-3.5.0-py3-none-any.whl (182 kB)\n",
      "Using cached murmurhash-1.0.12-cp311-cp311-win_amd64.whl (25 kB)\n",
      "Using cached preshed-3.0.9-cp311-cp311-win_amd64.whl (122 kB)\n",
      "Using cached spacy_legacy-3.0.12-py2.py3-none-any.whl (29 kB)\n",
      "Using cached spacy_loggers-1.0.5-py3-none-any.whl (22 kB)\n",
      "Using cached srsly-2.5.1-cp311-cp311-win_amd64.whl (632 kB)\n",
      "Using cached thinc-8.3.4-cp311-cp311-win_amd64.whl (1.5 MB)\n",
      "Using cached typer-0.15.1-py3-none-any.whl (44 kB)\n",
      "Using cached wasabi-1.1.3-py3-none-any.whl (27 kB)\n",
      "Using cached weasel-0.4.1-py3-none-any.whl (50 kB)\n",
      "Using cached blis-1.2.0-cp311-cp311-win_amd64.whl (6.2 MB)\n",
      "Using cached cloudpathlib-0.20.0-py3-none-any.whl (52 kB)\n",
      "Using cached confection-0.1.5-py3-none-any.whl (35 kB)\n",
      "Using cached language_data-1.3.0-py3-none-any.whl (5.4 MB)\n",
      "Using cached shellingham-1.5.4-py2.py3-none-any.whl (9.8 kB)\n",
      "Using cached marisa_trie-1.2.1-cp311-cp311-win_amd64.whl (152 kB)\n",
      "Installing collected packages: cymem, wasabi, spacy-loggers, spacy-legacy, shellingham, murmurhash, marisa-trie, cloudpathlib, catalogue, blis, srsly, preshed, language-data, typer, langcodes, confection, weasel, thinc, spacy\n",
      "Successfully installed blis-1.2.0 catalogue-2.0.10 cloudpathlib-0.20.0 confection-0.1.5 cymem-2.0.11 langcodes-3.5.0 language-data-1.3.0 marisa-trie-1.2.1 murmurhash-1.0.12 preshed-3.0.9 shellingham-1.5.4 spacy-3.8.4 spacy-legacy-3.0.12 spacy-loggers-1.0.5 srsly-2.5.1 thinc-8.3.4 typer-0.15.1 wasabi-1.1.3 weasel-0.4.1\n",
      "Note: you may need to restart the kernel to use updated packages.\n"
     ]
    }
   ],
   "source": [
    "!pip install spacy"
   ]
  },
  {
   "cell_type": "code",
   "execution_count": 9,
   "metadata": {},
   "outputs": [],
   "source": [
    "import spacy"
   ]
  },
  {
   "cell_type": "code",
   "execution_count": 7,
   "metadata": {},
   "outputs": [
    {
     "data": {
      "text/plain": [
       "<torch._C.Generator at 0x1f4decc93b0>"
      ]
     },
     "execution_count": 7,
     "metadata": {},
     "output_type": "execute_result"
    }
   ],
   "source": [
    "torch.manual_seed(123)"
   ]
  },
  {
   "cell_type": "code",
   "execution_count": 11,
   "metadata": {},
   "outputs": [],
   "source": [
    "from torch.utils.data import DataLoader , Dataset"
   ]
  },
  {
   "cell_type": "code",
   "execution_count": 28,
   "metadata": {},
   "outputs": [],
   "source": [
    "class Multi30kDataset(Dataset):\n",
    "    def __init__(self,src_file, trg_file, src_transform=None, trg_transform=None):\n",
    "        self.src_data=self.load_data(src_file)\n",
    "        self.trg_file=self.load_data(trg_file)\n",
    "        self.src_transform=src_transform\n",
    "        self.trg_transform=trg_transform\n",
    "    \n",
    "    def load_data(self, file_path):\n",
    "        with gzip.open(file_path, 'rt', encoding='utf-8') as f:\n",
    "            data = f.readlines()\n",
    "        return data\n",
    "    \n",
    "    def __len__(self):\n",
    "        return len(self.src_data)\n",
    "    \n",
    "    def __getitem__(self, idx):\n",
    "        src_sentence = self.src_data[idx].strip()\n",
    "        trg_sentence = self.trg_data[idx].strip()\n",
    "        \n",
    "        if self.src_transform:\n",
    "            src_sentence = self.src_transform(src_sentence)\n",
    "        if self.trg_transform:\n",
    "            trg_sentence = self.trg_transform(trg_sentence)\n",
    "        \n",
    "        return {\"src\": src_sentence, \"trg\": trg_sentence}"
   ]
  },
  {
   "cell_type": "code",
   "execution_count": 29,
   "metadata": {},
   "outputs": [],
   "source": [
    "train_de_path=\"C:\\\\Users\\\\abhij\\\\Desktop\\\\Coding\\\\Live Advance NLP Generative AI Bootcamp\\\\Advance NLP Generative AI\\\\data\\\\train.de.gz\"\n",
    "train_en_path=\"C:\\\\Users\\\\abhij\\\\Desktop\\\\Coding\\\\Live Advance NLP Generative AI Bootcamp\\\\Advance NLP Generative AI\\\\data\\\\train.en.gz\"\n",
    "val_de_path=\"C:\\\\Users\\\\abhij\\\\Desktop\\\\Coding\\\\Live Advance NLP Generative AI Bootcamp\\\\Advance NLP Generative AI\\\\data\\\\val.de.gz\"\n",
    "val_en_path=\"C:\\\\Users\\\\abhij\\\\Desktop\\\\Coding\\\\Live Advance NLP Generative AI Bootcamp\\\\Advance NLP Generative AI\\\\data\\\\val.den.gz\"\n",
    "test_de_path=\"C:\\\\Users\\\\abhij\\\\Desktop\\\\Coding\\\\Live Advance NLP Generative AI Bootcamp\\\\Advance NLP Generative AI\\\\data\\\\test_2016_flickr.de.gz\"\n",
    "train_de_path=\"C:\\\\Users\\\\abhij\\\\Desktop\\\\Coding\\\\Live Advance NLP Generative AI Bootcamp\\\\Advance NLP Generative AI\\\\data\\\\test_2016_flickr.en.gz\""
   ]
  },
  {
   "cell_type": "code",
   "execution_count": 31,
   "metadata": {},
   "outputs": [],
   "source": [
    "def tokenize_de():\n",
    "    pass"
   ]
  },
  {
   "cell_type": "code",
   "execution_count": 32,
   "metadata": {},
   "outputs": [],
   "source": [
    "def tokenize_en():\n",
    "    pass"
   ]
  },
  {
   "cell_type": "code",
   "execution_count": 33,
   "metadata": {},
   "outputs": [
    {
     "ename": "FileNotFoundError",
     "evalue": "[Errno 2] No such file or directory: 'C:\\\\Users\\\\abhij\\\\Desktop\\\\Coding\\\\Live Advance NLP Generative AI Bootcamp\\\\Advance NLP Generative AI\\\\data\\\\val.den.gz'",
     "output_type": "error",
     "traceback": [
      "\u001b[1;31m---------------------------------------------------------------------------\u001b[0m",
      "\u001b[1;31mFileNotFoundError\u001b[0m                         Traceback (most recent call last)",
      "Cell \u001b[1;32mIn[33], line 3\u001b[0m\n\u001b[0;32m      1\u001b[0m \u001b[38;5;66;03m# Load datasets\u001b[39;00m\n\u001b[0;32m      2\u001b[0m train_data \u001b[38;5;241m=\u001b[39m Multi30kDataset(train_de_path, train_en_path, src_transform\u001b[38;5;241m=\u001b[39mtokenize_de, trg_transform\u001b[38;5;241m=\u001b[39mtokenize_en)\n\u001b[1;32m----> 3\u001b[0m val_data \u001b[38;5;241m=\u001b[39m Multi30kDataset(val_de_path, val_en_path, src_transform\u001b[38;5;241m=\u001b[39mtokenize_de, trg_transform\u001b[38;5;241m=\u001b[39mtokenize_en)\n\u001b[0;32m      4\u001b[0m test_data \u001b[38;5;241m=\u001b[39m Multi30kDataset(test_de_path, test_en_path, src_transform\u001b[38;5;241m=\u001b[39mtokenize_de, trg_transform\u001b[38;5;241m=\u001b[39mtokenize_en)\n\u001b[0;32m      7\u001b[0m \u001b[38;5;66;03m# Define special tokens\u001b[39;00m\n",
      "Cell \u001b[1;32mIn[28], line 4\u001b[0m, in \u001b[0;36mMulti30kDataset.__init__\u001b[1;34m(self, src_file, trg_file, src_transform, trg_transform)\u001b[0m\n\u001b[0;32m      2\u001b[0m \u001b[38;5;28;01mdef\u001b[39;00m \u001b[38;5;21m__init__\u001b[39m(\u001b[38;5;28mself\u001b[39m,src_file, trg_file, src_transform\u001b[38;5;241m=\u001b[39m\u001b[38;5;28;01mNone\u001b[39;00m, trg_transform\u001b[38;5;241m=\u001b[39m\u001b[38;5;28;01mNone\u001b[39;00m):\n\u001b[0;32m      3\u001b[0m     \u001b[38;5;28mself\u001b[39m\u001b[38;5;241m.\u001b[39msrc_data\u001b[38;5;241m=\u001b[39m\u001b[38;5;28mself\u001b[39m\u001b[38;5;241m.\u001b[39mload_data(src_file)\n\u001b[1;32m----> 4\u001b[0m     \u001b[38;5;28mself\u001b[39m\u001b[38;5;241m.\u001b[39mtrg_file\u001b[38;5;241m=\u001b[39m\u001b[38;5;28mself\u001b[39m\u001b[38;5;241m.\u001b[39mload_data(trg_file)\n\u001b[0;32m      5\u001b[0m     \u001b[38;5;28mself\u001b[39m\u001b[38;5;241m.\u001b[39msrc_transform\u001b[38;5;241m=\u001b[39msrc_transform\n\u001b[0;32m      6\u001b[0m     \u001b[38;5;28mself\u001b[39m\u001b[38;5;241m.\u001b[39mtrg_transform\u001b[38;5;241m=\u001b[39mtrg_transform\n",
      "Cell \u001b[1;32mIn[28], line 9\u001b[0m, in \u001b[0;36mMulti30kDataset.load_data\u001b[1;34m(self, file_path)\u001b[0m\n\u001b[0;32m      8\u001b[0m \u001b[38;5;28;01mdef\u001b[39;00m \u001b[38;5;21mload_data\u001b[39m(\u001b[38;5;28mself\u001b[39m, file_path):\n\u001b[1;32m----> 9\u001b[0m     \u001b[38;5;28;01mwith\u001b[39;00m gzip\u001b[38;5;241m.\u001b[39mopen(file_path, \u001b[38;5;124m'\u001b[39m\u001b[38;5;124mrt\u001b[39m\u001b[38;5;124m'\u001b[39m, encoding\u001b[38;5;241m=\u001b[39m\u001b[38;5;124m'\u001b[39m\u001b[38;5;124mutf-8\u001b[39m\u001b[38;5;124m'\u001b[39m) \u001b[38;5;28;01mas\u001b[39;00m f:\n\u001b[0;32m     10\u001b[0m         data \u001b[38;5;241m=\u001b[39m f\u001b[38;5;241m.\u001b[39mreadlines()\n\u001b[0;32m     11\u001b[0m     \u001b[38;5;28;01mreturn\u001b[39;00m data\n",
      "File \u001b[1;32mc:\\Users\\abhij\\anaconda3\\Lib\\gzip.py:58\u001b[0m, in \u001b[0;36mopen\u001b[1;34m(filename, mode, compresslevel, encoding, errors, newline)\u001b[0m\n\u001b[0;32m     56\u001b[0m gz_mode \u001b[38;5;241m=\u001b[39m mode\u001b[38;5;241m.\u001b[39mreplace(\u001b[38;5;124m\"\u001b[39m\u001b[38;5;124mt\u001b[39m\u001b[38;5;124m\"\u001b[39m, \u001b[38;5;124m\"\u001b[39m\u001b[38;5;124m\"\u001b[39m)\n\u001b[0;32m     57\u001b[0m \u001b[38;5;28;01mif\u001b[39;00m \u001b[38;5;28misinstance\u001b[39m(filename, (\u001b[38;5;28mstr\u001b[39m, \u001b[38;5;28mbytes\u001b[39m, os\u001b[38;5;241m.\u001b[39mPathLike)):\n\u001b[1;32m---> 58\u001b[0m     binary_file \u001b[38;5;241m=\u001b[39m GzipFile(filename, gz_mode, compresslevel)\n\u001b[0;32m     59\u001b[0m \u001b[38;5;28;01melif\u001b[39;00m \u001b[38;5;28mhasattr\u001b[39m(filename, \u001b[38;5;124m\"\u001b[39m\u001b[38;5;124mread\u001b[39m\u001b[38;5;124m\"\u001b[39m) \u001b[38;5;129;01mor\u001b[39;00m \u001b[38;5;28mhasattr\u001b[39m(filename, \u001b[38;5;124m\"\u001b[39m\u001b[38;5;124mwrite\u001b[39m\u001b[38;5;124m\"\u001b[39m):\n\u001b[0;32m     60\u001b[0m     binary_file \u001b[38;5;241m=\u001b[39m GzipFile(\u001b[38;5;28;01mNone\u001b[39;00m, gz_mode, compresslevel, filename)\n",
      "File \u001b[1;32mc:\\Users\\abhij\\anaconda3\\Lib\\gzip.py:174\u001b[0m, in \u001b[0;36mGzipFile.__init__\u001b[1;34m(self, filename, mode, compresslevel, fileobj, mtime)\u001b[0m\n\u001b[0;32m    172\u001b[0m     mode \u001b[38;5;241m+\u001b[39m\u001b[38;5;241m=\u001b[39m \u001b[38;5;124m'\u001b[39m\u001b[38;5;124mb\u001b[39m\u001b[38;5;124m'\u001b[39m\n\u001b[0;32m    173\u001b[0m \u001b[38;5;28;01mif\u001b[39;00m fileobj \u001b[38;5;129;01mis\u001b[39;00m \u001b[38;5;28;01mNone\u001b[39;00m:\n\u001b[1;32m--> 174\u001b[0m     fileobj \u001b[38;5;241m=\u001b[39m \u001b[38;5;28mself\u001b[39m\u001b[38;5;241m.\u001b[39mmyfileobj \u001b[38;5;241m=\u001b[39m builtins\u001b[38;5;241m.\u001b[39mopen(filename, mode \u001b[38;5;129;01mor\u001b[39;00m \u001b[38;5;124m'\u001b[39m\u001b[38;5;124mrb\u001b[39m\u001b[38;5;124m'\u001b[39m)\n\u001b[0;32m    175\u001b[0m \u001b[38;5;28;01mif\u001b[39;00m filename \u001b[38;5;129;01mis\u001b[39;00m \u001b[38;5;28;01mNone\u001b[39;00m:\n\u001b[0;32m    176\u001b[0m     filename \u001b[38;5;241m=\u001b[39m \u001b[38;5;28mgetattr\u001b[39m(fileobj, \u001b[38;5;124m'\u001b[39m\u001b[38;5;124mname\u001b[39m\u001b[38;5;124m'\u001b[39m, \u001b[38;5;124m'\u001b[39m\u001b[38;5;124m'\u001b[39m)\n",
      "\u001b[1;31mFileNotFoundError\u001b[0m: [Errno 2] No such file or directory: 'C:\\\\Users\\\\abhij\\\\Desktop\\\\Coding\\\\Live Advance NLP Generative AI Bootcamp\\\\Advance NLP Generative AI\\\\data\\\\val.den.gz'"
     ]
    }
   ],
   "source": [
    "# Load datasets\n",
    "train_data = Multi30kDataset(train_de_path, train_en_path, src_transform=tokenize_de, trg_transform=tokenize_en)\n",
    "val_data = Multi30kDataset(val_de_path, val_en_path, src_transform=tokenize_de, trg_transform=tokenize_en)\n",
    "test_data = Multi30kDataset(test_de_path, test_en_path, src_transform=tokenize_de, trg_transform=tokenize_en)\n",
    "\n",
    "\n",
    "# Define special tokens\n",
    "PAD_TOKEN = '<pad>'\n",
    "SOS_TOKEN = '<sos>'\n",
    "EOS_TOKEN = '<eos>'\n",
    "UNK_TOKEN = '<unk>'"
   ]
  },
  {
   "cell_type": "code",
   "execution_count": 12,
   "metadata": {},
   "outputs": [],
   "source": [
    "def create_vocacb():\n",
    "    pass"
   ]
  },
  {
   "cell_type": "code",
   "execution_count": 14,
   "metadata": {},
   "outputs": [],
   "source": [
    "class PositionalEncoding(nn.Module):\n",
    "    def __init__(self):\n",
    "        pass"
   ]
  },
  {
   "cell_type": "code",
   "execution_count": 15,
   "metadata": {},
   "outputs": [],
   "source": [
    "class MultiheadAttention(nn.Module):\n",
    "    def __init__(self):\n",
    "        pass"
   ]
  },
  {
   "cell_type": "code",
   "execution_count": 16,
   "metadata": {},
   "outputs": [],
   "source": [
    "class PositionwiseFeedforward(nn.Module):\n",
    "    def __init__(self):\n",
    "        pass"
   ]
  },
  {
   "cell_type": "code",
   "execution_count": 17,
   "metadata": {},
   "outputs": [],
   "source": [
    "class EncoderLayer(nn.Module):\n",
    "    def __init__(self):\n",
    "        pass"
   ]
  },
  {
   "cell_type": "code",
   "execution_count": 18,
   "metadata": {},
   "outputs": [],
   "source": [
    "class DecoderLayer(nn.Module):\n",
    "    def __init__(self):\n",
    "        pass"
   ]
  },
  {
   "cell_type": "code",
   "execution_count": 19,
   "metadata": {},
   "outputs": [],
   "source": [
    "class Transformer(nn.Module):\n",
    "    def __init__(self):\n",
    "        pass"
   ]
  },
  {
   "cell_type": "markdown",
   "metadata": {},
   "source": [
    "encoder => bidirection \n",
    "decoder =>generative model"
   ]
  },
  {
   "cell_type": "code",
   "execution_count": 26,
   "metadata": {},
   "outputs": [
    {
     "name": "stdout",
     "output_type": "stream",
     "text": [
      "Collecting de-core-news-sm==3.8.0\n",
      "  Downloading https://github.com/explosion/spacy-models/releases/download/de_core_news_sm-3.8.0/de_core_news_sm-3.8.0-py3-none-any.whl (14.6 MB)\n",
      "     ---------------------------------------- 0.0/14.6 MB ? eta -:--:--\n",
      "     ---------------------------------------- 0.0/14.6 MB ? eta -:--:--\n",
      "     --------------------------------------- 0.0/14.6 MB 393.8 kB/s eta 0:00:38\n",
      "      --------------------------------------- 0.2/14.6 MB 1.2 MB/s eta 0:00:12\n",
      "      --------------------------------------- 0.3/14.6 MB 2.0 MB/s eta 0:00:08\n",
      "     - -------------------------------------- 0.6/14.6 MB 2.4 MB/s eta 0:00:06\n",
      "     -- ------------------------------------- 0.8/14.6 MB 3.0 MB/s eta 0:00:05\n",
      "     -- ------------------------------------- 1.0/14.6 MB 3.3 MB/s eta 0:00:05\n",
      "     -- ------------------------------------- 1.1/14.6 MB 3.2 MB/s eta 0:00:05\n",
      "     -- ------------------------------------- 1.1/14.6 MB 3.2 MB/s eta 0:00:05\n",
      "     -- ------------------------------------- 1.1/14.6 MB 3.2 MB/s eta 0:00:05\n",
      "     -- ------------------------------------- 1.1/14.6 MB 3.2 MB/s eta 0:00:05\n",
      "     --- ------------------------------------ 1.3/14.6 MB 2.4 MB/s eta 0:00:06\n",
      "     --- ------------------------------------ 1.4/14.6 MB 2.3 MB/s eta 0:00:06\n",
      "     ---- ----------------------------------- 1.6/14.6 MB 2.5 MB/s eta 0:00:06\n",
      "     ----- ---------------------------------- 1.8/14.6 MB 2.7 MB/s eta 0:00:05\n",
      "     ----- ---------------------------------- 2.1/14.6 MB 2.8 MB/s eta 0:00:05\n",
      "     ------ --------------------------------- 2.3/14.6 MB 3.0 MB/s eta 0:00:05\n",
      "     ------- -------------------------------- 2.6/14.6 MB 3.1 MB/s eta 0:00:04\n",
      "     ------- -------------------------------- 2.9/14.6 MB 3.3 MB/s eta 0:00:04\n",
      "     -------- ------------------------------- 3.2/14.6 MB 3.4 MB/s eta 0:00:04\n",
      "     --------- ------------------------------ 3.4/14.6 MB 3.5 MB/s eta 0:00:04\n",
      "     --------- ------------------------------ 3.6/14.6 MB 3.6 MB/s eta 0:00:04\n",
      "     ---------- ----------------------------- 3.9/14.6 MB 3.7 MB/s eta 0:00:03\n",
      "     ----------- ---------------------------- 4.1/14.6 MB 3.6 MB/s eta 0:00:03\n",
      "     ----------- ---------------------------- 4.3/14.6 MB 3.7 MB/s eta 0:00:03\n",
      "     ------------ --------------------------- 4.6/14.6 MB 3.8 MB/s eta 0:00:03\n",
      "     ------------- -------------------------- 4.8/14.6 MB 3.9 MB/s eta 0:00:03\n",
      "     ------------- -------------------------- 5.1/14.6 MB 3.9 MB/s eta 0:00:03\n",
      "     -------------- ------------------------- 5.3/14.6 MB 4.0 MB/s eta 0:00:03\n",
      "     --------------- ------------------------ 5.6/14.6 MB 4.1 MB/s eta 0:00:03\n",
      "     --------------- ------------------------ 5.8/14.6 MB 4.1 MB/s eta 0:00:03\n",
      "     ---------------- ----------------------- 6.1/14.6 MB 4.2 MB/s eta 0:00:03\n",
      "     ----------------- ---------------------- 6.3/14.6 MB 4.2 MB/s eta 0:00:02\n",
      "     ------------------ --------------------- 6.7/14.6 MB 4.3 MB/s eta 0:00:02\n",
      "     ------------------- -------------------- 7.0/14.6 MB 4.3 MB/s eta 0:00:02\n",
      "     ------------------- -------------------- 7.3/14.6 MB 4.4 MB/s eta 0:00:02\n",
      "     -------------------- ------------------- 7.4/14.6 MB 4.4 MB/s eta 0:00:02\n",
      "     -------------------- ------------------- 7.5/14.6 MB 4.3 MB/s eta 0:00:02\n",
      "     --------------------- ------------------ 7.8/14.6 MB 4.3 MB/s eta 0:00:02\n",
      "     --------------------- ------------------ 8.0/14.6 MB 4.3 MB/s eta 0:00:02\n",
      "     ---------------------- ----------------- 8.3/14.6 MB 4.4 MB/s eta 0:00:02\n",
      "     ----------------------- ---------------- 8.7/14.6 MB 4.5 MB/s eta 0:00:02\n",
      "     ------------------------ --------------- 9.1/14.6 MB 4.6 MB/s eta 0:00:02\n",
      "     ------------------------- -------------- 9.4/14.6 MB 4.6 MB/s eta 0:00:02\n",
      "     -------------------------- ------------- 9.8/14.6 MB 4.7 MB/s eta 0:00:02\n",
      "     --------------------------- ------------ 10.1/14.6 MB 4.8 MB/s eta 0:00:01\n",
      "     ---------------------------- ----------- 10.4/14.6 MB 5.1 MB/s eta 0:00:01\n",
      "     ---------------------------- ----------- 10.5/14.6 MB 5.1 MB/s eta 0:00:01\n",
      "     ---------------------------- ----------- 10.5/14.6 MB 5.1 MB/s eta 0:00:01\n",
      "     ---------------------------- ----------- 10.5/14.6 MB 4.8 MB/s eta 0:00:01\n",
      "     ----------------------------- ---------- 10.9/14.6 MB 4.9 MB/s eta 0:00:01\n",
      "     ------------------------------ --------- 11.3/14.6 MB 4.9 MB/s eta 0:00:01\n",
      "     ------------------------------- -------- 11.6/14.6 MB 5.6 MB/s eta 0:00:01\n",
      "     -------------------------------- ------- 11.9/14.6 MB 5.6 MB/s eta 0:00:01\n",
      "     --------------------------------- ------ 12.3/14.6 MB 5.7 MB/s eta 0:00:01\n",
      "     ---------------------------------- ----- 12.6/14.6 MB 5.7 MB/s eta 0:00:01\n",
      "     ----------------------------------- ---- 12.9/14.6 MB 5.7 MB/s eta 0:00:01\n",
      "     ------------------------------------ --- 13.3/14.6 MB 5.7 MB/s eta 0:00:01\n",
      "     ------------------------------------- -- 13.6/14.6 MB 5.8 MB/s eta 0:00:01\n",
      "     -------------------------------------- - 13.9/14.6 MB 5.9 MB/s eta 0:00:01\n",
      "     ---------------------------------------  14.3/14.6 MB 6.0 MB/s eta 0:00:01\n",
      "     ---------------------------------------  14.6/14.6 MB 6.1 MB/s eta 0:00:01\n",
      "     ---------------------------------------  14.6/14.6 MB 6.1 MB/s eta 0:00:01\n",
      "     ---------------------------------------- 14.6/14.6 MB 5.8 MB/s eta 0:00:00\n",
      "Installing collected packages: de-core-news-sm\n",
      "Successfully installed de-core-news-sm-3.8.0\n",
      "\u001b[38;5;2m✔ Download and installation successful\u001b[0m\n",
      "You can now load the package via spacy.load('de_core_news_sm')\n",
      "Collecting en-core-web-sm==3.8.0\n",
      "  Downloading https://github.com/explosion/spacy-models/releases/download/en_core_web_sm-3.8.0/en_core_web_sm-3.8.0-py3-none-any.whl (12.8 MB)\n",
      "     ---------------------------------------- 0.0/12.8 MB ? eta -:--:--\n",
      "     --------------------------------------- 0.0/12.8 MB 330.3 kB/s eta 0:00:39\n",
      "     --------------------------------------- 0.0/12.8 MB 393.8 kB/s eta 0:00:33\n",
      "     --------------------------------------- 0.1/12.8 MB 819.2 kB/s eta 0:00:16\n",
      "      --------------------------------------- 0.3/12.8 MB 1.4 MB/s eta 0:00:09\n",
      "     - -------------------------------------- 0.5/12.8 MB 2.3 MB/s eta 0:00:06\n",
      "     -- ------------------------------------- 0.8/12.8 MB 3.2 MB/s eta 0:00:04\n",
      "     --- ------------------------------------ 1.2/12.8 MB 3.9 MB/s eta 0:00:03\n",
      "     ---- ----------------------------------- 1.5/12.8 MB 4.2 MB/s eta 0:00:03\n",
      "     ----- ---------------------------------- 1.9/12.8 MB 4.6 MB/s eta 0:00:03\n",
      "     ------- -------------------------------- 2.4/12.8 MB 5.2 MB/s eta 0:00:02\n",
      "     -------- ------------------------------- 2.8/12.8 MB 5.6 MB/s eta 0:00:02\n",
      "     ---------- ----------------------------- 3.2/12.8 MB 5.9 MB/s eta 0:00:02\n",
      "     ----------- ---------------------------- 3.6/12.8 MB 6.1 MB/s eta 0:00:02\n",
      "     ------------ --------------------------- 4.0/12.8 MB 6.3 MB/s eta 0:00:02\n",
      "     ------------- -------------------------- 4.5/12.8 MB 6.5 MB/s eta 0:00:02\n",
      "     -------------- ------------------------- 4.5/12.8 MB 6.1 MB/s eta 0:00:02\n",
      "     --------------- ------------------------ 4.9/12.8 MB 6.3 MB/s eta 0:00:02\n",
      "     ---------------- ----------------------- 5.3/12.8 MB 6.4 MB/s eta 0:00:02\n",
      "     ----------------- ---------------------- 5.7/12.8 MB 6.5 MB/s eta 0:00:02\n",
      "     ------------------- -------------------- 6.1/12.8 MB 6.6 MB/s eta 0:00:02\n",
      "     -------------------- ------------------- 6.5/12.8 MB 6.8 MB/s eta 0:00:01\n",
      "     --------------------- ------------------ 6.9/12.8 MB 6.9 MB/s eta 0:00:01\n",
      "     ----------------------- ---------------- 7.4/12.8 MB 7.0 MB/s eta 0:00:01\n",
      "     ------------------------ --------------- 7.8/12.8 MB 7.1 MB/s eta 0:00:01\n",
      "     ------------------------- -------------- 8.2/12.8 MB 7.2 MB/s eta 0:00:01\n",
      "     --------------------------- ------------ 8.7/12.8 MB 7.3 MB/s eta 0:00:01\n",
      "     ---------------------------- ----------- 9.1/12.8 MB 7.3 MB/s eta 0:00:01\n",
      "     ----------------------------- ---------- 9.5/12.8 MB 7.4 MB/s eta 0:00:01\n",
      "     ------------------------------ --------- 9.9/12.8 MB 7.4 MB/s eta 0:00:01\n",
      "     -------------------------------- ------- 10.3/12.8 MB 8.1 MB/s eta 0:00:01\n",
      "     --------------------------------- ------ 10.7/12.8 MB 8.5 MB/s eta 0:00:01\n",
      "     ---------------------------------- ----- 11.1/12.8 MB 8.6 MB/s eta 0:00:01\n",
      "     ------------------------------------ --- 11.5/12.8 MB 8.6 MB/s eta 0:00:01\n",
      "     ------------------------------------- -- 11.9/12.8 MB 8.7 MB/s eta 0:00:01\n",
      "     -------------------------------------- - 12.2/12.8 MB 8.6 MB/s eta 0:00:01\n",
      "     ---------------------------------------  12.6/12.8 MB 8.5 MB/s eta 0:00:01\n",
      "     ---------------------------------------  12.8/12.8 MB 8.5 MB/s eta 0:00:01\n",
      "     ---------------------------------------- 12.8/12.8 MB 8.2 MB/s eta 0:00:00\n",
      "Installing collected packages: en-core-web-sm\n",
      "Successfully installed en-core-web-sm-3.8.0\n",
      "\u001b[38;5;2m✔ Download and installation successful\u001b[0m\n",
      "You can now load the package via spacy.load('en_core_web_sm')\n"
     ]
    }
   ],
   "source": [
    "!python -m spacy download de_core_news_sm\n",
    "!python -m spacy download en_core_web_sm\n"
   ]
  },
  {
   "cell_type": "code",
   "execution_count": 27,
   "metadata": {},
   "outputs": [
    {
     "data": {
      "text/plain": [
       "<spacy.lang.en.English at 0x1f4e70eb4d0>"
      ]
     },
     "execution_count": 27,
     "metadata": {},
     "output_type": "execute_result"
    }
   ],
   "source": [
    "spacy.load(\"de_core_news_sm\")\n",
    "spacy.load(\"en_core_web_sm\")"
   ]
  },
  {
   "cell_type": "code",
   "execution_count": 24,
   "metadata": {},
   "outputs": [
    {
     "ename": "SyntaxError",
     "evalue": "invalid syntax (1970078136.py, line 1)",
     "output_type": "error",
     "traceback": [
      "\u001b[1;36m  Cell \u001b[1;32mIn[24], line 1\u001b[1;36m\u001b[0m\n\u001b[1;33m    python -m spacy download de_core_news_sm\u001b[0m\n\u001b[1;37m              ^\u001b[0m\n\u001b[1;31mSyntaxError\u001b[0m\u001b[1;31m:\u001b[0m invalid syntax\n"
     ]
    }
   ],
   "source": []
  },
  {
   "cell_type": "code",
   "execution_count": null,
   "metadata": {},
   "outputs": [],
   "source": []
  }
 ],
 "metadata": {
  "kernelspec": {
   "display_name": "base",
   "language": "python",
   "name": "python3"
  },
  "language_info": {
   "codemirror_mode": {
    "name": "ipython",
    "version": 3
   },
   "file_extension": ".py",
   "mimetype": "text/x-python",
   "name": "python",
   "nbconvert_exporter": "python",
   "pygments_lexer": "ipython3",
   "version": "3.11.7"
  }
 },
 "nbformat": 4,
 "nbformat_minor": 2
}
